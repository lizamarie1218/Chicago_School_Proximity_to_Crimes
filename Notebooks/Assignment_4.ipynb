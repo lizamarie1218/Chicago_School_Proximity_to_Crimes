{
 "cells": [
  {
   "cell_type": "markdown",
   "metadata": {
    "colab_type": "text",
    "id": "q8LnywmXcnIm"
   },
   "source": [
    "# CAPP 30239 - Assignment 4 : Static Viz 2 (Theming & Geospatial Viz)\n",
    "\n",
    "*Chicago Public Schools (SY 2018-2019) vs. Chicago Crimes*\n",
    "\n",
    "LIZA MARIE SORIANO"
   ]
  },
  {
   "cell_type": "markdown",
   "metadata": {
    "colab_type": "text",
    "id": "qdohKGfOc2Y8"
   },
   "source": [
    "## Setup"
   ]
  },
  {
   "cell_type": "code",
   "execution_count": 1,
   "metadata": {
    "colab": {
     "base_uri": "https://localhost:8080/",
     "height": 122
    },
    "colab_type": "code",
    "id": "3l_cAlWcciCx",
    "outputId": "d4d218c5-08af-4915-97bb-3dd78019d9a2"
   },
   "outputs": [],
   "source": [
    "#from google.colab import drive\n",
    "#drive.mount('/content/drive')"
   ]
  },
  {
   "cell_type": "code",
   "execution_count": 2,
   "metadata": {
    "colab": {},
    "colab_type": "code",
    "id": "f-BQ6cNpa3xT"
   },
   "outputs": [
    {
     "name": "stdout",
     "output_type": "stream",
     "text": [
      "Collecting geopandas\n",
      "  Using cached https://files.pythonhosted.org/packages/52/4f/6440a63c9367d981a91de458467eed4a8e259a26f24158071b610a1ed1dd/geopandas-0.6.3-py2.py3-none-any.whl\n",
      "Collecting shapely (from geopandas)\n",
      "  Using cached https://files.pythonhosted.org/packages/ea/55/61a5d274a210585b5d0c3dac81a82952a4baa7903e3642228d7a465fc340/Shapely-1.7.0-cp37-cp37m-win_amd64.whl\n",
      "Collecting pyproj (from geopandas)\n",
      "  Using cached https://files.pythonhosted.org/packages/fa/36/cd777f88a92d069341b6cecdf38c2a56be06888ea4b6eabad104329ea8c7/pyproj-2.4.2.post1-cp37-cp37m-win_amd64.whl\n",
      "Collecting fiona (from geopandas)\n",
      "  Using cached https://files.pythonhosted.org/packages/be/04/31d0a6f03943b1684f32c9b861be40c1fd282468fa6bd54ddf4a774e6b0f/Fiona-1.8.13.tar.gz\n",
      "    Complete output from command python setup.py egg_info:\n",
      "    A GDAL API version must be specified. Provide a path to gdal-config using a GDAL_CONFIG environment variable or use a GDAL_VERSION environment variable.\n",
      "    \n",
      "    ----------------------------------------\n"
     ]
    },
    {
     "name": "stderr",
     "output_type": "stream",
     "text": [
      "Command \"python setup.py egg_info\" failed with error code 1 in C:\\Users\\apex\\AppData\\Local\\Temp\\pip-install-63if3nrs\\fiona\\\n"
     ]
    },
    {
     "ename": "ModuleNotFoundError",
     "evalue": "No module named 'geopandas'",
     "output_type": "error",
     "traceback": [
      "\u001b[1;31m---------------------------------------------------------------------------\u001b[0m",
      "\u001b[1;31mModuleNotFoundError\u001b[0m                       Traceback (most recent call last)",
      "\u001b[1;32m<ipython-input-2-cd4746197f73>\u001b[0m in \u001b[0;36m<module>\u001b[1;34m\u001b[0m\n\u001b[0;32m      8\u001b[0m \u001b[1;33m\u001b[0m\u001b[0m\n\u001b[0;32m      9\u001b[0m \u001b[0mget_ipython\u001b[0m\u001b[1;33m(\u001b[0m\u001b[1;33m)\u001b[0m\u001b[1;33m.\u001b[0m\u001b[0msystem\u001b[0m\u001b[1;33m(\u001b[0m\u001b[1;34m'pip install geopandas'\u001b[0m\u001b[1;33m)\u001b[0m\u001b[1;33m\u001b[0m\u001b[1;33m\u001b[0m\u001b[0m\n\u001b[1;32m---> 10\u001b[1;33m \u001b[1;32mimport\u001b[0m \u001b[0mgeopandas\u001b[0m \u001b[1;32mas\u001b[0m \u001b[0mgpd\u001b[0m\u001b[1;33m\u001b[0m\u001b[1;33m\u001b[0m\u001b[0m\n\u001b[0m",
      "\u001b[1;31mModuleNotFoundError\u001b[0m: No module named 'geopandas'"
     ]
    }
   ],
   "source": [
    "import sys\n",
    "import pandas as pd\n",
    "import numpy as np\n",
    "import json\n",
    "import altair as alt\n",
    "from altair.expr import datum, if_\n",
    "alt.renderers.enable('colab')\n",
    "\n",
    "!pip install geopandas\n",
    "import geopandas as gpd"
   ]
  },
  {
   "cell_type": "markdown",
   "metadata": {
    "colab_type": "text",
    "id": "ENSXu2kudGYp"
   },
   "source": [
    "## Data Used\n",
    "- [Chicago Public Schools Profile Information for Schoolyear 2018-2019](https://data.cityofchicago.org/Education/Chicago-Public-Schools-School-Profile-Information-/kh4r-387c)\n",
    "- [Chicago Public Schools Outcomes 2011-2019](https://cps.edu/SchoolData/Pages/SchoolData.aspx)\n",
    "  - **High School Graduation/Dropouts**: Metrics --> Dropout and Graduation --> Cohort Dropout and Graduation Rates, 2015 Method --> School Level\n",
    "  - **College Enrollment/Persistence**: Metrics --> College Enrollment and Persistence Data --> School Level\n",
    "- [Chicago Crimes Data for Year 2018](https://data.cityofchicago.org/Public-Safety/Crimes-2018/3i3m-jwuy)\n",
    "- [Chicago Community Area Boundaries](https://data.cityofchicago.org/Facilities-Geographic-Boundaries/Boundaries-Community-Areas-current-/cauq-8yn6)\n",
    "- [Census Tracts to Community Area Equivalence](http://robparal.blogspot.com/2012/04/census-tracts-in-chicago-community.html)"
   ]
  },
  {
   "cell_type": "code",
   "execution_count": null,
   "metadata": {
    "colab": {},
    "colab_type": "code",
    "id": "ePrWaDijdInA"
   },
   "outputs": [],
   "source": [
    "CPS_1819 = \"Chicago_Public_Schools_-_School_Profile_Information_SY1819\"\n",
    "CPS_5yrGrad = \"5-Year_HS_Cohort_Rates\"\n",
    "CPS_4yrGrad = \"4-Year_HS_Cohort_Rates\"\n",
    "CPS_College = \"College_Enrollment_Persistence_2010-2018\"\n",
    "\n",
    "CRIMES_18 = \"Crimes_-_2018\"\n",
    "COMM_AREAS = \"Boundaries - Community Areas (current)\""
   ]
  },
  {
   "cell_type": "markdown",
   "metadata": {
    "colab_type": "text",
    "id": "OJdUgxJwfaZ0"
   },
   "source": [
    "## Helper Functions"
   ]
  },
  {
   "cell_type": "code",
   "execution_count": null,
   "metadata": {
    "colab": {},
    "colab_type": "code",
    "id": "YeEBrqRlfZHp"
   },
   "outputs": [],
   "source": [
    "def path_to_data(file):\n",
    "    #return '/content/drive/My Drive/Courses/CAPP 30239 - Data Viz for Policy Analysis/Data/{}'.format(file)\n",
    "    return '..Data/{}'.format(file)"
   ]
  },
  {
   "cell_type": "code",
   "execution_count": null,
   "metadata": {
    "colab": {},
    "colab_type": "code",
    "id": "qqiLV6Q474JV"
   },
   "outputs": [],
   "source": [
    "def read_csv(filename, cols=None, col_types=None):\n",
    "    '''\n",
    "    Inputs:\n",
    "        name of file (str)--must end in .csv\n",
    "        columns to include from original (list)--if not specified, read all cols\n",
    "        specifications of datatypes of cols (dict of {col : dtype})\n",
    "    Outputs:\n",
    "      '''\n",
    "      df = pd.read_csv(path_to_data(filename), usecols=cols, dtype=col_types)\n",
    "      return df"
   ]
  },
  {
   "cell_type": "code",
   "execution_count": null,
   "metadata": {
    "colab": {},
    "colab_type": "code",
    "id": "DdVbudvjRAEm"
   },
   "outputs": [],
   "source": [
    "def change_to_numeric(df, col_list):\n",
    "    '''\n",
    "    Change select columns to numeric datatype\n",
    "    INPUTS: df, col_list (list of str) of attributes to change\n",
    "    '''\n",
    "    # Change select columns to NUMERIC type\n",
    "    for col in col_list:\n",
    "        df[col] = pd.to_numeric(df[col])"
   ]
  },
  {
   "cell_type": "code",
   "execution_count": null,
   "metadata": {
    "colab": {},
    "colab_type": "code",
    "id": "_DA3ZNL3SiIP"
   },
   "outputs": [],
   "source": [
    "def remove_trailing_character(df, col_list, character=None):\n",
    "    '''\n",
    "    Remove character or trailing whitespace from values in df columns.\n",
    "    INPUT: df | col_list (list of str) of colnames from which to remove character/whitespace | char (str) to remove\n",
    "    OUTPUT: df edited in place\n",
    "    '''\n",
    "    if character:\n",
    "      for col in col_list:\n",
    "        df[col] = df[col].str.rstrip(character)\n",
    "    else:\n",
    "      for col in col_list:\n",
    "        df[col] = df[col].str.rstrip()"
   ]
  },
  {
   "cell_type": "markdown",
   "metadata": {
    "colab_type": "text",
    "id": "P4rEf2RGkc4t"
   },
   "source": [
    "## Colors / Theme"
   ]
  },
  {
   "cell_type": "code",
   "execution_count": null,
   "metadata": {
    "colab": {},
    "colab_type": "code",
    "id": "NMcpEsHYI09T"
   },
   "outputs": [],
   "source": [
    "# Color Theme\n",
    "blue = \"#578ceb\"\n",
    "pink = \"#ff5aaa\"\n",
    "yellow = \"#ffb14e\"\n",
    "mint = \"#99d8c9\"\n",
    "purple = \"#7854b3\"\n",
    "teal = \"#069695\"\n",
    "dark_pink = \"#be176f\"\n",
    "\n",
    "# For Altair\n",
    "#theme_range = [blue, pink, yellow, mint, purple, teal, dark_pink]\n",
    "theme_range = [yellow, blue, pink, dark_pink, purple, teal, mint]\n",
    "sequential_palette = [\"#cfe8f3\", \n",
    "                      \"#a2d4ec\", \n",
    "                      \"#73bfe2\", \n",
    "                      \"#46abdb\", \n",
    "                      \"#1696d2\", \n",
    "                      \"#12719e\"\n",
    "                      ]"
   ]
  },
  {
   "cell_type": "code",
   "execution_count": null,
   "metadata": {
    "colab": {},
    "colab_type": "code",
    "id": "4fA0m-xBYudw"
   },
   "outputs": [],
   "source": [
    "# Adapted from https://towardsdatascience.com/consistently-beautiful-visualizations-with-altair-themes-c7f9f889602\n",
    "def custom_theme():\n",
    "    # Typography\n",
    "    font = \"Georgia\"\n",
    "    labelFont = \"Palatino\" \n",
    "    sourceFont = \"Palatino\"\n",
    "    # Colors\n",
    "    main_palette = theme_range\n",
    "    sequential_palette = [\"#cfe8f3\", \n",
    "                          \"#a2d4ec\", \n",
    "                          \"#73bfe2\", \n",
    "                          \"#46abdb\", \n",
    "                          \"#1696d2\", \n",
    "                          \"#12719e\"\n",
    "                          ]\n",
    "    return {\n",
    "        # width and height are configured outside the config dict because they are Chart configurations/properties not chart-elements' configurations/properties.\n",
    "        \"width\": 685, # from the guide\n",
    "        \"height\": 380, # not in the guide\n",
    "        \"config\": {\n",
    "            \"title\": {\n",
    "                \"fontSize\": 18,\n",
    "                \"font\": font,\n",
    "                \"anchor\": \"middle\",\n",
    "                \"fontColor\": teal\n",
    "            },\n",
    "            \"range\": {\n",
    "                \"category\": main_palette,\n",
    "                \"diverging\": sequential_palette,\n",
    "            },\n",
    "            \"legend\": {\n",
    "                \"labelFont\": labelFont,\n",
    "                \"labelFontSize\": 12,\n",
    "                \"symbolSize\": 100, # default\n",
    "                \"titleFont\": font,\n",
    "                \"titleFontSize\": 12,\n",
    "                \"rowPadding\": 4,\n",
    "                \"orient\": \"right\",\n",
    "                \"offset\": 15,\n",
    "            },\n",
    "              }\n",
    "                }"
   ]
  },
  {
   "cell_type": "code",
   "execution_count": null,
   "metadata": {
    "colab": {
     "base_uri": "https://localhost:8080/",
     "height": 34
    },
    "colab_type": "code",
    "id": "Kiw_bkoKTpTP",
    "outputId": "3a424513-fbcd-4747-c1b5-1daf7a7b94b3"
   },
   "outputs": [],
   "source": [
    "# Adapted from: https://github.com/altair-viz/altair/issues/268\n",
    "alt.themes.register('my_theme', custom_theme)\n",
    "alt.themes.enable('my_theme')"
   ]
  },
  {
   "cell_type": "markdown",
   "metadata": {
    "colab_type": "text",
    "id": "8WZUquGdfpHX"
   },
   "source": [
    "## CPS DATA"
   ]
  },
  {
   "cell_type": "markdown",
   "metadata": {
    "colab_type": "text",
    "id": "zzNmyffkgGgh"
   },
   "source": [
    "### Read, Explore, & Modify Data"
   ]
  },
  {
   "cell_type": "markdown",
   "metadata": {
    "colab_type": "text",
    "id": "pN7hIFU3F67G"
   },
   "source": [
    "#### Load CPS Profile Information\n",
    "- ***cps_df***"
   ]
  },
  {
   "cell_type": "code",
   "execution_count": null,
   "metadata": {
    "colab": {},
    "colab_type": "code",
    "id": "agT1Y-WYiUSU"
   },
   "outputs": [],
   "source": [
    "cps_df = read_csv(CPS_1819 + \".csv\", col_types={'School_ID':str})"
   ]
  },
  {
   "cell_type": "code",
   "execution_count": null,
   "metadata": {
    "colab": {},
    "colab_type": "code",
    "id": "LcjA4tCCGIzK"
   },
   "outputs": [],
   "source": [
    "''' ADD ATTRIBUTES '''\n",
    "# Add School Year\n",
    "cps_df['schoolyear'] = '2018-2019'\n",
    "\n",
    "# Add % Demographics\n",
    "dmg_perc_cols = {'Student_Count_Low_Income': '%low_inc', \\\n",
    "                 'Student_Count_Special_Ed': '%special_ed', \\\n",
    "                 'Student_Count_English_Learners': '%esl', \\\n",
    "                 'Student_Count_Black': '%black', \\\n",
    "                 'Student_Count_Hispanic': '%hisp', \\\n",
    "                 'Student_Count_White': '%white', \\\n",
    "                 'Student_Count_Asian': '%asian', \\\n",
    "                 'Student_Count_Native_American': '%native', \\\n",
    "                 'Student_Count_Other_Ethnicity': '%other', \\\n",
    "                 'Student_Count_Asian_Pacific_Islander': '%as.pacif', \\\n",
    "                 'Student_Count_Multi': '%multirace', \\\n",
    "                 'Student_Count_Hawaiian_Pacific_Islander': '%hw.pacif', \\\n",
    "                 'Student_Count_Ethnicity_Not_Available': '%na'}\n",
    "\n",
    "for count, perc in dmg_perc_cols.items():\n",
    "    cps_df[perc] = cps_df[count] / cps_df['Student_Count_Total']\n",
    "\n",
    "# Add Majority Race column\n",
    "cps_df.loc[(cps_df['%black'] > 0.5), 'majority_race'] = 'majority_black'\n",
    "cps_df.loc[(cps_df['%hisp'] > 0.5), 'majority_race'] = 'majority_hisp'\n",
    "cps_df.loc[(cps_df['%white'] > 0.5), 'majority_race'] = 'majority_white'\n",
    "cps_df['majority_race'].fillna('no_majority', inplace = True)\n"
   ]
  },
  {
   "cell_type": "code",
   "execution_count": null,
   "metadata": {
    "colab": {
     "base_uri": "https://localhost:8080/",
     "height": 627
    },
    "colab_type": "code",
    "id": "7r92KXh6kQYi",
    "outputId": "eb5d6add-4e6d-48ff-94fe-eb80da7317b6"
   },
   "outputs": [],
   "source": [
    "cps_df.head()"
   ]
  },
  {
   "cell_type": "code",
   "execution_count": null,
   "metadata": {
    "colab": {
     "base_uri": "https://localhost:8080/",
     "height": 34
    },
    "colab_type": "code",
    "id": "F02hpj4hvBE_",
    "outputId": "9fc84f9d-5a4c-4707-d4f2-a81e800b8fd7"
   },
   "outputs": [],
   "source": [
    "# Why we need additional data to look at outcomes\n",
    "print(sum(cps_df['Graduation_Rate_School'].isna()), \"schools out of\", cps_df.shape[0], \"are missing graduation rates.\")"
   ]
  },
  {
   "cell_type": "markdown",
   "metadata": {
    "colab_type": "text",
    "id": "dG1KW39IGAwO"
   },
   "source": [
    "#### Load CPS High School Graduation/Dropout Information\n",
    "- ***grad_df***"
   ]
  },
  {
   "cell_type": "markdown",
   "metadata": {
    "colab_type": "text",
    "id": "cPL7Y-GLOXz9"
   },
   "source": [
    "Year in CPS_5yrGrad refers to cohort who were freshman 5 years before that year, e.g. [Rate_Grad_5yr_2019] is % of students who were 9th-graders in SY 2014-15 that graduated by SY 2018-19 (which theoretically would also include all students who graduated SY 2017-18, i.e. after 4 years).\n",
    "\n",
    "Let's grab cohorts that would normally graduate SY 2018-19 as well as the cohort right before. (Thus, freshmen during 2014-15 and 2015-16.)"
   ]
  },
  {
   "cell_type": "code",
   "execution_count": null,
   "metadata": {
    "colab": {},
    "colab_type": "code",
    "id": "etl8Mws0Tws5"
   },
   "outputs": [],
   "source": [
    "# Define cols to upload and to change to numeric\n",
    "grad_cohort_1516 = ['School_ID', 'Rate_Dropout_4yr_2019', 'Rate_Grad_4yr_2019']\n",
    "grad_cohort_1415 = ['School_ID', 'Rate_Dropout_5yr_2019', 'Rate_Grad_5yr_2019']\n",
    "grad_cols_numeric = ['Rate_Dropout_4yr_2019', 'Rate_Dropout_5yr_2019', 'Rate_Grad_4yr_2019', 'Rate_Grad_5yr_2019']"
   ]
  },
  {
   "cell_type": "code",
   "execution_count": null,
   "metadata": {
    "colab": {
     "base_uri": "https://localhost:8080/",
     "height": 0
    },
    "colab_type": "code",
    "id": "6gzqbsV8GOAr",
    "outputId": "5cdc9af5-0bd6-44e5-f84b-a0227e461c78"
   },
   "outputs": [],
   "source": [
    "# Read in data\n",
    "grad_df_4yr = read_csv(CPS_4yrGrad + \".csv\", cols=grad_cohort_1516, col_types={'School_ID':str})\n",
    "grad_df_5yr = read_csv(CPS_5yrGrad + \".csv\", cols=grad_cohort_1415, col_types={'School_ID':str})\n",
    "grad_df = pd.merge(grad_df_4yr, grad_df_5yr, on=\"School_ID\", how='outer')\n",
    "grad_df.head()"
   ]
  },
  {
   "cell_type": "code",
   "execution_count": null,
   "metadata": {
    "colab": {},
    "colab_type": "code",
    "id": "CBjvuXh-Ntwq"
   },
   "outputs": [],
   "source": [
    "''' CLEAN UP DATA '''\n",
    "# Strip out '%' from the object values of rates\n",
    "remove_trailing_character(grad_df, grad_cols_numeric, '%')\n",
    "\n",
    "# Replace blank entries with NaNs (from: https://stackoverflow.com/questions/13445241/replacing-blank-values-white-space-with-nan-in-pandas)\n",
    "grad_df = grad_df.replace(r'^\\s*$', np.nan, regex=True)\n",
    "\n",
    "# Convert cols to numeric\n",
    "change_to_numeric(grad_df, grad_cols_numeric)\n",
    "\n",
    "# Change cols to percentages\n",
    "for col in grad_cols_numeric:\n",
    "  grad_df[col] = grad_df[col] / 100"
   ]
  },
  {
   "cell_type": "code",
   "execution_count": null,
   "metadata": {
    "colab": {
     "base_uri": "https://localhost:8080/",
     "height": 0
    },
    "colab_type": "code",
    "id": "0x3SKxvTj_BZ",
    "outputId": "0199e024-7546-4a8d-faf1-59c1acc1ad22"
   },
   "outputs": [],
   "source": [
    "grad_df.head()"
   ]
  },
  {
   "cell_type": "markdown",
   "metadata": {
    "colab_type": "text",
    "id": "oGhXC5e9kHdR"
   },
   "source": [
    "#### Merge CPS Profile and HS Graduation info together"
   ]
  },
  {
   "cell_type": "code",
   "execution_count": null,
   "metadata": {
    "colab": {
     "base_uri": "https://localhost:8080/",
     "height": 0
    },
    "colab_type": "code",
    "id": "YHxOMXaGgxrB",
    "outputId": "00e93b9b-5ad0-42c7-ed8b-587d6df5c327"
   },
   "outputs": [],
   "source": [
    "# Check shape of dataframes before merging together\n",
    "print(\"HS grad rates:\", grad_df.shape)\n",
    "print(\"CPS profile info:\", cps_df.shape)"
   ]
  },
  {
   "cell_type": "code",
   "execution_count": null,
   "metadata": {
    "colab": {},
    "colab_type": "code",
    "id": "2TiVD7bwAis-"
   },
   "outputs": [],
   "source": [
    "# Merge CPS Profile Info with High School Graduation Outcomes Data\n",
    "cps_df = pd.merge(cps_df, grad_df, on=\"School_ID\", how='left')"
   ]
  },
  {
   "cell_type": "code",
   "execution_count": null,
   "metadata": {
    "colab": {
     "base_uri": "https://localhost:8080/",
     "height": 0
    },
    "colab_type": "code",
    "id": "ZFAxGq-gTKxy",
    "outputId": "ea4599c8-0dfe-4d08-f3a1-710a21f972c8"
   },
   "outputs": [],
   "source": [
    "# Check that new dataframe's shape makes sense\n",
    "print(\"New cps_df:\", cps_df.shape)\n",
    "cps_df.head()"
   ]
  },
  {
   "cell_type": "markdown",
   "metadata": {
    "colab_type": "text",
    "id": "3-tFgaSK2C4r"
   },
   "source": [
    "#### Aggregate Citywide Numbers\n",
    "- ***aggs_df***"
   ]
  },
  {
   "cell_type": "code",
   "execution_count": null,
   "metadata": {
    "colab": {
     "base_uri": "https://localhost:8080/",
     "height": 0
    },
    "colab_type": "code",
    "id": "2CfqNsZMCAOn",
    "outputId": "4f250829-c1ec-42ed-97be-880f0aa1f188"
   },
   "outputs": [],
   "source": [
    "# Mean Graduation Percentage of High Schools\n",
    "grad_mean_5yr_2019 = cps_df.loc[cps_df['Primary_Category'] == 'HS', 'Rate_Grad_5yr_2019'].mean()\n",
    "grad_mean_4yr_2019 = cps_df.loc[cps_df['Primary_Category'] == 'HS', 'Rate_Grad_4yr_2019'].mean()\n",
    "\n",
    "print(\"5-year cohort:\", grad_mean_5yr_2019)\n",
    "print(\"4-year cohort:\", grad_mean_4yr_2019)"
   ]
  },
  {
   "cell_type": "code",
   "execution_count": null,
   "metadata": {
    "colab": {
     "base_uri": "https://localhost:8080/",
     "height": 0
    },
    "colab_type": "code",
    "id": "o5EsCc9a2c5d",
    "outputId": "b0b878c2-7fca-4723-a90d-859466023bd4"
   },
   "outputs": [],
   "source": [
    "# Mean Dropout Percentage of High Schools\n",
    "dropout_mean_5yr_2019 = cps_df.loc[cps_df['Primary_Category'] == 'HS', 'Rate_Dropout_5yr_2019'].mean()\n",
    "dropout_mean_4yr_2019 = cps_df.loc[cps_df['Primary_Category'] == 'HS', 'Rate_Dropout_4yr_2019'].mean()\n",
    "\n",
    "print(\"5-year cohort:\", dropout_mean_5yr_2019)\n",
    "print(\"4-year cohort:\", dropout_mean_4yr_2019)"
   ]
  },
  {
   "cell_type": "code",
   "execution_count": null,
   "metadata": {
    "colab": {
     "base_uri": "https://localhost:8080/",
     "height": 0
    },
    "colab_type": "code",
    "id": "yQeEFeA5BmwN",
    "outputId": "0b610a96-9b21-4507-b865-af287cb83531"
   },
   "outputs": [],
   "source": [
    "# Create citywide means dataframe\n",
    "city_aggs = {'schoolyear_ending': [2019, 2019, 2019, 2019, 2019, 2019],\n",
    "         'group': ['4-yr_cohort', '4-yr_cohort', '4-yr_cohort', '5-yr_cohort', '5-yr_cohort', '5-yr_cohort'],\n",
    "         'rate_description': ['grad_rate', 'dropout_rate', 'other_rate', 'grad_rate', 'dropout_rate', 'other_rate'],\n",
    "         'city_mean': [grad_mean_4yr_2019, dropout_mean_4yr_2019, 1-(grad_mean_4yr_2019 + dropout_mean_4yr_2019),\n",
    "                       grad_mean_5yr_2019, dropout_mean_5yr_2019, 1-(grad_mean_5yr_2019 + dropout_mean_5yr_2019)]}\n",
    "aggs_df = pd.DataFrame(data=city_aggs, dtype=np.int32)\n",
    "aggs_df"
   ]
  },
  {
   "cell_type": "code",
   "execution_count": null,
   "metadata": {
    "colab": {
     "base_uri": "https://localhost:8080/",
     "height": 0
    },
    "colab_type": "code",
    "id": "3TZi2SkmvxRa",
    "outputId": "73f92119-be68-4ccc-a112-ba72c919f62c"
   },
   "outputs": [],
   "source": [
    "# See Number of High Schools and Majority Race\n",
    "print('Total High Schools:', len(cps_df.loc[cps_df['Is_High_School'] == True,]))\n",
    "print('Majority White high schools:', cps_df.loc[(cps_df['majority_race'] == 'majority_white'), 'Is_High_School'].sum())\n",
    "print('Majority Black high schools:', cps_df.loc[(cps_df['majority_race'] == 'majority_black'), 'Is_High_School'].sum())\n",
    "print('Majority Hispanic high schools:', cps_df.loc[(cps_df['majority_race'] == 'majority_hisp'), 'Is_High_School'].sum())\n",
    "print('No Majority Race high schools:', cps_df.loc[(cps_df['majority_race'] == 'no_majority'), 'Is_High_School'].sum())"
   ]
  },
  {
   "cell_type": "code",
   "execution_count": null,
   "metadata": {
    "colab": {},
    "colab_type": "code",
    "id": "NQzMtBPnnB3w"
   },
   "outputs": [],
   "source": [
    "# Add Majority-Race Outcomes to aggregate df\n",
    "# (4YR COHORT)\n",
    "cohort_4yr = {'majority_black': 'majority_black_HS_4yr_cohort',\n",
    "          'majority_hisp': 'majority_hisp_HS_4yr_cohort',\n",
    "          'no_majority': 'no_majority_HS_4yr_cohort'}\n",
    "\n",
    "for race, group in cohort_4yr.items():\n",
    "  grad_mean = cps_df[cps_df['majority_race'] == race]['Rate_Grad_4yr_2019'].mean()\n",
    "  dropout_mean = cps_df[cps_df['majority_race'] == race]['Rate_Dropout_4yr_2019'].mean()\n",
    "\n",
    "  df = pd.DataFrame({\"schoolyear_ending\":[2019, 2019, 2019], \n",
    "                    \"group\":3*[group],\n",
    "                    \"rate_description\":['grad_rate', 'dropout_rate', 'other_rate'],\n",
    "                    \"city_mean\": [grad_mean, dropout_mean, (1-(grad_mean + dropout_mean))]\n",
    "                     })\n",
    "  aggs_df = aggs_df.append(df, ignore_index = True)"
   ]
  },
  {
   "cell_type": "code",
   "execution_count": null,
   "metadata": {
    "colab": {},
    "colab_type": "code",
    "id": "ZfEVOwmC8TkY"
   },
   "outputs": [],
   "source": [
    "# Add Majority-Race Outcomes to aggregate df\n",
    "# (5YR COHORT)\n",
    "cohort_5yr = {'majority_black': 'majority_black_HS_5yr_cohort',\n",
    "          'majority_hisp': 'majority_hisp_HS_5yr_cohort',\n",
    "          'no_majority': 'no_majority_HS_5yr_cohort'}\n",
    "\n",
    "for race, group in cohort_5yr.items():\n",
    "  grad_mean = cps_df[cps_df['majority_race'] == race]['Rate_Grad_5yr_2019'].mean()\n",
    "  dropout_mean = cps_df[cps_df['majority_race'] == race]['Rate_Dropout_5yr_2019'].mean()\n",
    "\n",
    "  df = pd.DataFrame({\"schoolyear_ending\":[2019, 2019, 2019], \n",
    "                    \"group\":3*[group],\n",
    "                    \"rate_description\":['grad_rate', 'dropout_rate', 'other_rate'],\n",
    "                    \"city_mean\": [grad_mean, dropout_mean, (1-(grad_mean + dropout_mean))]\n",
    "                     })\n",
    "  aggs_df = aggs_df.append(df, ignore_index = True)"
   ]
  },
  {
   "cell_type": "code",
   "execution_count": null,
   "metadata": {
    "colab": {
     "base_uri": "https://localhost:8080/",
     "height": 0
    },
    "colab_type": "code",
    "id": "wEeOQ2zU6xs0",
    "outputId": "940672a1-9f64-46a1-faa0-907054c40afd"
   },
   "outputs": [],
   "source": [
    "aggs_df"
   ]
  },
  {
   "cell_type": "markdown",
   "metadata": {
    "colab_type": "text",
    "id": "dLYfhdwR1iC1"
   },
   "source": [
    "### CHARTS : Demographics"
   ]
  },
  {
   "cell_type": "markdown",
   "metadata": {
    "colab_type": "text",
    "id": "w9OHRZX0Wped"
   },
   "source": [
    "#### Code"
   ]
  },
  {
   "cell_type": "code",
   "execution_count": null,
   "metadata": {
    "colab": {},
    "colab_type": "code",
    "id": "RvphB8IDscYW"
   },
   "outputs": [],
   "source": [
    "lowinc_v_white = alt.Chart(cps_df).mark_point().encode(\n",
    "    x=alt.X('%low_inc', axis=alt.Axis(format='%', title='% Low Income')),\n",
    "    y=alt.Y('%white', axis=alt.Axis(format='%', title='% White')),\n",
    "    color='Rating_Status',\n",
    "    shape='Rating_Status'\n",
    ").transform_filter(\n",
    "    datum.Rating_Status != 'NOT APPLICABLE'\n",
    ")\n",
    "#lowinc_v_white"
   ]
  },
  {
   "cell_type": "code",
   "execution_count": null,
   "metadata": {
    "colab": {},
    "colab_type": "code",
    "id": "O1K-WvaeGiV-"
   },
   "outputs": [],
   "source": [
    "lowinc_v_hisp = alt.Chart(cps_df).mark_point().encode(\n",
    "    x=alt.X('%low_inc', axis=alt.Axis(format='%', title='% Low Income')),\n",
    "    y=alt.Y('%hisp', axis=alt.Axis(format='%', title='% Hispanic')),\n",
    "    color='Rating_Status',\n",
    "    shape='Rating_Status'\n",
    ").transform_filter(\n",
    "    datum.Rating_Status != 'NOT APPLICABLE'\n",
    ")\n",
    "#lowinc_v_hisp"
   ]
  },
  {
   "cell_type": "code",
   "execution_count": null,
   "metadata": {
    "colab": {},
    "colab_type": "code",
    "id": "cQe9DqJQ43dd"
   },
   "outputs": [],
   "source": [
    "lowinc_v_black = alt.Chart(cps_df).mark_point().encode(\n",
    "    x=alt.X('%low_inc', axis=alt.Axis(format='%', title='% Low Income')),\n",
    "    y=alt.Y('%black', axis=alt.Axis(format='%', title='% Black')),\n",
    "    color='Rating_Status',\n",
    "    shape='Rating_Status'\n",
    ").transform_filter(\n",
    "    datum.Rating_Status != 'NOT APPLICABLE'\n",
    ")\n",
    "#lowinc_v_black"
   ]
  },
  {
   "cell_type": "code",
   "execution_count": null,
   "metadata": {
    "colab": {},
    "colab_type": "code",
    "id": "h4Q0f4-n7A4_"
   },
   "outputs": [],
   "source": [
    "inc_by_race = alt.hconcat(lowinc_v_white, lowinc_v_hisp, lowinc_v_black).resolve_scale(y='shared')\n",
    "\n",
    "inc_by_race_rating = alt.vconcat(\n",
    ").properties(\n",
    "    title={\n",
    "      \"text\": [\"Schools not in good standing tend to be poor, and\",\n",
    "               \"majority white schools are probably not majority low-income.\"], \n",
    "      \"subtitle\": [\"Chicago Public Schools: % Low-Income vs. % Race by School Performance\",\n",
    "                   \"[Source: City of Chicago Data Portal]\"],\n",
    "      \"color\": teal,\n",
    "      \"subtitleColor\": purple,\n",
    "    }\n",
    ")\n",
    "for rating_status in ['GOOD STANDING', 'INTENSIVE SUPPORT', 'PROVISIONAL SUPPORT']:\n",
    "  inc_by_race_rating &= inc_by_race.transform_filter(datum.Rating_Status == rating_status)\n",
    "\n",
    "#inc_by_race_rating"
   ]
  },
  {
   "cell_type": "code",
   "execution_count": null,
   "metadata": {
    "colab": {},
    "colab_type": "code",
    "id": "zZu-RDZrP2ZF"
   },
   "outputs": [],
   "source": [
    "lowinc_hisp_black = alt.Chart(cps_df).mark_point().encode(\n",
    "    x=alt.X('%low_inc', axis=alt.Axis(format='%', title='% Low Income')),\n",
    "    y=alt.Y('%hisp', axis=alt.Axis(format='%', title='% Hispanic')),\n",
    "    color=alt.Color('%black:Q', title='% Black', bin=alt.Bin(maxbins=5), \n",
    "                    scale=alt.Scale(range=[mint, teal, purple, dark_pink, pink])),\n",
    "    shape=alt.Shape('%black:O', title=None,bin=alt.Bin(maxbins=5), sort='descending')\n",
    ").properties(\n",
    "    title={\n",
    "      \"text\": [\"Large clusters of very poor schools are either all Hispanic or all Black\"], \n",
    "      \"subtitle\": [\"Chicago Public Schools Student Population:\",\n",
    "                   \"% Low-Income vs. % Hispanic vs. %Black\",\n",
    "                   \"[Source: City of Chicago Data Portal]\"],\n",
    "      \"color\": teal,\n",
    "      \"subtitleColor\": purple\n",
    "    }\n",
    ").configure_title(\n",
    "    subtitleFontSize=12,\n",
    ")\n",
    "#lowinc_hisp_black"
   ]
  },
  {
   "cell_type": "markdown",
   "metadata": {
    "colab_type": "text",
    "id": "ny5od6ZvWzOn"
   },
   "source": [
    "#### Graphics"
   ]
  },
  {
   "cell_type": "markdown",
   "metadata": {
    "colab_type": "text",
    "id": "h0i4FSqHNIbb"
   },
   "source": [
    "Each Chicago public school has information about student population\n",
    "demographics. There is also a performance metric ('Rating Status') by which each school's educational attainment is assessed. **The following graphs indicate that underperforming schools tend to be very poor and most likely non-White.**\n",
    "\n",
    "*Rating Status* : Schools rated as needing intensive or provisional support are largely those with 80-100% low-income students and none of them have a sizeable White student population.\n",
    "\n",
    "*Race vs Income* : Fifty percent or less of students in majority-White schools come from low-income families (only two exceptions). The low-income trend for Hispanic students is almost the complete opposite. Majority Hispanic schools are very likely to be majority low-income; the trend for Black student populations, though less stark, is similar."
   ]
  },
  {
   "cell_type": "code",
   "execution_count": null,
   "metadata": {
    "colab": {
     "base_uri": "https://localhost:8080/",
     "height": 792,
     "resources": {
      "http://localhost:8080/altair-data-d8ecf8521bebc38802db2fbbfb6078a9.csv": {
       "data": "CjwhRE9DVFlQRSBodG1sPgo8aHRtbCBsYW5nPWVuPgogIDxtZXRhIGNoYXJzZXQ9dXRmLTg+CiAgPG1ldGEgbmFtZT12aWV3cG9ydCBjb250ZW50PSJpbml0aWFsLXNjYWxlPTEsIG1pbmltdW0tc2NhbGU9MSwgd2lkdGg9ZGV2aWNlLXdpZHRoIj4KICA8dGl0bGU+RXJyb3IgNDA0IChOb3QgRm91bmQpISExPC90aXRsZT4KICA8c3R5bGU+CiAgICAqe21hcmdpbjowO3BhZGRpbmc6MH1odG1sLGNvZGV7Zm9udDoxNXB4LzIycHggYXJpYWwsc2Fucy1zZXJpZn1odG1se2JhY2tncm91bmQ6I2ZmZjtjb2xvcjojMjIyO3BhZGRpbmc6MTVweH1ib2R5e21hcmdpbjo3JSBhdXRvIDA7bWF4LXdpZHRoOjM5MHB4O21pbi1oZWlnaHQ6MTgwcHg7cGFkZGluZzozMHB4IDAgMTVweH0qID4gYm9keXtiYWNrZ3JvdW5kOnVybCgvL3d3dy5nb29nbGUuY29tL2ltYWdlcy9lcnJvcnMvcm9ib3QucG5nKSAxMDAlIDVweCBuby1yZXBlYXQ7cGFkZGluZy1yaWdodDoyMDVweH1we21hcmdpbjoxMXB4IDAgMjJweDtvdmVyZmxvdzpoaWRkZW59aW5ze2NvbG9yOiM3Nzc7dGV4dC1kZWNvcmF0aW9uOm5vbmV9YSBpbWd7Ym9yZGVyOjB9QG1lZGlhIHNjcmVlbiBhbmQgKG1heC13aWR0aDo3NzJweCl7Ym9keXtiYWNrZ3JvdW5kOm5vbmU7bWFyZ2luLXRvcDowO21heC13aWR0aDpub25lO3BhZGRpbmctcmlnaHQ6MH19I2xvZ297YmFja2dyb3VuZDp1cmwoLy93d3cuZ29vZ2xlLmNvbS9pbWFnZXMvbG9nb3MvZXJyb3JwYWdlL2Vycm9yX2xvZ28tMTUweDU0LnBuZykgbm8tcmVwZWF0O21hcmdpbi1sZWZ0Oi01cHh9QG1lZGlhIG9ubHkgc2NyZWVuIGFuZCAobWluLXJlc29sdXRpb246MTkyZHBpKXsjbG9nb3tiYWNrZ3JvdW5kOnVybCgvL3d3dy5nb29nbGUuY29tL2ltYWdlcy9sb2dvcy9lcnJvcnBhZ2UvZXJyb3JfbG9nby0xNTB4NTQtMngucG5nKSBuby1yZXBlYXQgMCUgMCUvMTAwJSAxMDAlOy1tb3otYm9yZGVyLWltYWdlOnVybCgvL3d3dy5nb29nbGUuY29tL2ltYWdlcy9sb2dvcy9lcnJvcnBhZ2UvZXJyb3JfbG9nby0xNTB4NTQtMngucG5nKSAwfX1AbWVkaWEgb25seSBzY3JlZW4gYW5kICgtd2Via2l0LW1pbi1kZXZpY2UtcGl4ZWwtcmF0aW86Mil7I2xvZ297YmFja2dyb3VuZDp1cmwoLy93d3cuZ29vZ2xlLmNvbS9pbWFnZXMvbG9nb3MvZXJyb3JwYWdlL2Vycm9yX2xvZ28tMTUweDU0LTJ4LnBuZykgbm8tcmVwZWF0Oy13ZWJraXQtYmFja2dyb3VuZC1zaXplOjEwMCUgMTAwJX19I2xvZ297ZGlzcGxheTppbmxpbmUtYmxvY2s7aGVpZ2h0OjU0cHg7d2lkdGg6MTUwcHh9CiAgPC9zdHlsZT4KICA8YSBocmVmPS8vd3d3Lmdvb2dsZS5jb20vPjxzcGFuIGlkPWxvZ28gYXJpYS1sYWJlbD1Hb29nbGU+PC9zcGFuPjwvYT4KICA8cD48Yj40MDQuPC9iPiA8aW5zPlRoYXTigJlzIGFuIGVycm9yLjwvaW5zPgogIDxwPiAgPGlucz5UaGF04oCZcyBhbGwgd2Uga25vdy48L2lucz4K",
       "headers": [
        [
         "content-length",
         "1449"
        ],
        [
         "content-type",
         "text/html; charset=utf-8"
        ]
       ],
       "ok": false,
       "status": 404,
       "status_text": ""
      }
     }
    },
    "colab_type": "code",
    "id": "s8vbxa0WYcrN",
    "outputId": "35bfa794-c968-44d9-97b5-6c53905b26f6"
   },
   "outputs": [],
   "source": [
    "inc_by_race_rating"
   ]
  },
  {
   "cell_type": "markdown",
   "metadata": {
    "colab_type": "text",
    "id": "SqjyyK6oOztP"
   },
   "source": [
    "*Segregation?*\n",
    "\n",
    "Looking specifically at % Hispanic graphs, we can see two clusters of schools along the 100% low-income end: almost 0% or almost 100% Hispanic. In other words, there is a large number of completely poor schools that are either all Hispanic or zero Hispanic. You can see these clusters replicated in the % Black graphs.\n",
    "\n",
    "I wondered if these clusters speak to the racial and socioeconomic segregation in the city of Chicago. Despite a number of mixed-race student populations, many poor Hispanic and Black students are probably relegated away in schools that reflect the racial makeup of their neighborhoods. *I therefore guessed that the cluster of poor schools that are ~0% Hispanic are necessarily ~100% Black.* \n",
    "\n",
    "The following graphic provides a view that explores this idea."
   ]
  },
  {
   "cell_type": "code",
   "execution_count": null,
   "metadata": {
    "colab": {
     "base_uri": "https://localhost:8080/",
     "height": 35,
     "resources": {
      "http://localhost:8080/altair-data-d8ecf8521bebc38802db2fbbfb6078a9.csv": {
       "data": "CjwhRE9DVFlQRSBodG1sPgo8aHRtbCBsYW5nPWVuPgogIDxtZXRhIGNoYXJzZXQ9dXRmLTg+CiAgPG1ldGEgbmFtZT12aWV3cG9ydCBjb250ZW50PSJpbml0aWFsLXNjYWxlPTEsIG1pbmltdW0tc2NhbGU9MSwgd2lkdGg9ZGV2aWNlLXdpZHRoIj4KICA8dGl0bGU+RXJyb3IgNDA0IChOb3QgRm91bmQpISExPC90aXRsZT4KICA8c3R5bGU+CiAgICAqe21hcmdpbjowO3BhZGRpbmc6MH1odG1sLGNvZGV7Zm9udDoxNXB4LzIycHggYXJpYWwsc2Fucy1zZXJpZn1odG1se2JhY2tncm91bmQ6I2ZmZjtjb2xvcjojMjIyO3BhZGRpbmc6MTVweH1ib2R5e21hcmdpbjo3JSBhdXRvIDA7bWF4LXdpZHRoOjM5MHB4O21pbi1oZWlnaHQ6MTgwcHg7cGFkZGluZzozMHB4IDAgMTVweH0qID4gYm9keXtiYWNrZ3JvdW5kOnVybCgvL3d3dy5nb29nbGUuY29tL2ltYWdlcy9lcnJvcnMvcm9ib3QucG5nKSAxMDAlIDVweCBuby1yZXBlYXQ7cGFkZGluZy1yaWdodDoyMDVweH1we21hcmdpbjoxMXB4IDAgMjJweDtvdmVyZmxvdzpoaWRkZW59aW5ze2NvbG9yOiM3Nzc7dGV4dC1kZWNvcmF0aW9uOm5vbmV9YSBpbWd7Ym9yZGVyOjB9QG1lZGlhIHNjcmVlbiBhbmQgKG1heC13aWR0aDo3NzJweCl7Ym9keXtiYWNrZ3JvdW5kOm5vbmU7bWFyZ2luLXRvcDowO21heC13aWR0aDpub25lO3BhZGRpbmctcmlnaHQ6MH19I2xvZ297YmFja2dyb3VuZDp1cmwoLy93d3cuZ29vZ2xlLmNvbS9pbWFnZXMvbG9nb3MvZXJyb3JwYWdlL2Vycm9yX2xvZ28tMTUweDU0LnBuZykgbm8tcmVwZWF0O21hcmdpbi1sZWZ0Oi01cHh9QG1lZGlhIG9ubHkgc2NyZWVuIGFuZCAobWluLXJlc29sdXRpb246MTkyZHBpKXsjbG9nb3tiYWNrZ3JvdW5kOnVybCgvL3d3dy5nb29nbGUuY29tL2ltYWdlcy9sb2dvcy9lcnJvcnBhZ2UvZXJyb3JfbG9nby0xNTB4NTQtMngucG5nKSBuby1yZXBlYXQgMCUgMCUvMTAwJSAxMDAlOy1tb3otYm9yZGVyLWltYWdlOnVybCgvL3d3dy5nb29nbGUuY29tL2ltYWdlcy9sb2dvcy9lcnJvcnBhZ2UvZXJyb3JfbG9nby0xNTB4NTQtMngucG5nKSAwfX1AbWVkaWEgb25seSBzY3JlZW4gYW5kICgtd2Via2l0LW1pbi1kZXZpY2UtcGl4ZWwtcmF0aW86Mil7I2xvZ297YmFja2dyb3VuZDp1cmwoLy93d3cuZ29vZ2xlLmNvbS9pbWFnZXMvbG9nb3MvZXJyb3JwYWdlL2Vycm9yX2xvZ28tMTUweDU0LTJ4LnBuZykgbm8tcmVwZWF0Oy13ZWJraXQtYmFja2dyb3VuZC1zaXplOjEwMCUgMTAwJX19I2xvZ297ZGlzcGxheTppbmxpbmUtYmxvY2s7aGVpZ2h0OjU0cHg7d2lkdGg6MTUwcHh9CiAgPC9zdHlsZT4KICA8YSBocmVmPS8vd3d3Lmdvb2dsZS5jb20vPjxzcGFuIGlkPWxvZ28gYXJpYS1sYWJlbD1Hb29nbGU+PC9zcGFuPjwvYT4KICA8cD48Yj40MDQuPC9iPiA8aW5zPlRoYXTigJlzIGFuIGVycm9yLjwvaW5zPgogIDxwPiAgPGlucz5UaGF04oCZcyBhbGwgd2Uga25vdy48L2lucz4K",
       "headers": [
        [
         "content-length",
         "1449"
        ],
        [
         "content-type",
         "text/html; charset=utf-8"
        ]
       ],
       "ok": false,
       "status": 404,
       "status_text": ""
      }
     }
    },
    "colab_type": "code",
    "id": "K1QGmuVpYeR3",
    "outputId": "4fe4df12-fefa-4189-fe05-a3d9b8b49ef8"
   },
   "outputs": [],
   "source": [
    "lowinc_hisp_black"
   ]
  },
  {
   "cell_type": "markdown",
   "metadata": {
    "colab_type": "text",
    "id": "QYmBozQQ1xz2"
   },
   "source": [
    "This graph provides another view of the all-or-nothing race composition in many of Chicago's schools. Looking at the largely poor schools (close to 100% low income), the cluster at the bottom, where ~0% Hispanic, seem to be mostly Black (light pink circles for >= 80% Black). Meanwhile the cluster at the top, where ~100% Hispanic, consists of schools that are 20% or less Black (mint diamonds). This shows a pattern of segregation in Chicago public schools, while simultaneously demonstrating the poor economic status of Hispanic and Black student populations."
   ]
  },
  {
   "cell_type": "markdown",
   "metadata": {
    "colab_type": "text",
    "id": "DdjrXkz02_2r"
   },
   "source": [
    "### CHARTS: Graduation Rates"
   ]
  },
  {
   "cell_type": "markdown",
   "metadata": {
    "colab_type": "text",
    "id": "1yUAmg7WDrnX"
   },
   "source": [
    "#### Code"
   ]
  },
  {
   "cell_type": "code",
   "execution_count": null,
   "metadata": {
    "colab": {
     "base_uri": "https://localhost:8080/",
     "height": 318,
     "resources": {
      "http://localhost:8080/altair-data-d8ecf8521bebc38802db2fbbfb6078a9.csv": {
       "data": "CjwhRE9DVFlQRSBodG1sPgo8aHRtbCBsYW5nPWVuPgogIDxtZXRhIGNoYXJzZXQ9dXRmLTg+CiAgPG1ldGEgbmFtZT12aWV3cG9ydCBjb250ZW50PSJpbml0aWFsLXNjYWxlPTEsIG1pbmltdW0tc2NhbGU9MSwgd2lkdGg9ZGV2aWNlLXdpZHRoIj4KICA8dGl0bGU+RXJyb3IgNDA0IChOb3QgRm91bmQpISExPC90aXRsZT4KICA8c3R5bGU+CiAgICAqe21hcmdpbjowO3BhZGRpbmc6MH1odG1sLGNvZGV7Zm9udDoxNXB4LzIycHggYXJpYWwsc2Fucy1zZXJpZn1odG1se2JhY2tncm91bmQ6I2ZmZjtjb2xvcjojMjIyO3BhZGRpbmc6MTVweH1ib2R5e21hcmdpbjo3JSBhdXRvIDA7bWF4LXdpZHRoOjM5MHB4O21pbi1oZWlnaHQ6MTgwcHg7cGFkZGluZzozMHB4IDAgMTVweH0qID4gYm9keXtiYWNrZ3JvdW5kOnVybCgvL3d3dy5nb29nbGUuY29tL2ltYWdlcy9lcnJvcnMvcm9ib3QucG5nKSAxMDAlIDVweCBuby1yZXBlYXQ7cGFkZGluZy1yaWdodDoyMDVweH1we21hcmdpbjoxMXB4IDAgMjJweDtvdmVyZmxvdzpoaWRkZW59aW5ze2NvbG9yOiM3Nzc7dGV4dC1kZWNvcmF0aW9uOm5vbmV9YSBpbWd7Ym9yZGVyOjB9QG1lZGlhIHNjcmVlbiBhbmQgKG1heC13aWR0aDo3NzJweCl7Ym9keXtiYWNrZ3JvdW5kOm5vbmU7bWFyZ2luLXRvcDowO21heC13aWR0aDpub25lO3BhZGRpbmctcmlnaHQ6MH19I2xvZ297YmFja2dyb3VuZDp1cmwoLy93d3cuZ29vZ2xlLmNvbS9pbWFnZXMvbG9nb3MvZXJyb3JwYWdlL2Vycm9yX2xvZ28tMTUweDU0LnBuZykgbm8tcmVwZWF0O21hcmdpbi1sZWZ0Oi01cHh9QG1lZGlhIG9ubHkgc2NyZWVuIGFuZCAobWluLXJlc29sdXRpb246MTkyZHBpKXsjbG9nb3tiYWNrZ3JvdW5kOnVybCgvL3d3dy5nb29nbGUuY29tL2ltYWdlcy9sb2dvcy9lcnJvcnBhZ2UvZXJyb3JfbG9nby0xNTB4NTQtMngucG5nKSBuby1yZXBlYXQgMCUgMCUvMTAwJSAxMDAlOy1tb3otYm9yZGVyLWltYWdlOnVybCgvL3d3dy5nb29nbGUuY29tL2ltYWdlcy9sb2dvcy9lcnJvcnBhZ2UvZXJyb3JfbG9nby0xNTB4NTQtMngucG5nKSAwfX1AbWVkaWEgb25seSBzY3JlZW4gYW5kICgtd2Via2l0LW1pbi1kZXZpY2UtcGl4ZWwtcmF0aW86Mil7I2xvZ297YmFja2dyb3VuZDp1cmwoLy93d3cuZ29vZ2xlLmNvbS9pbWFnZXMvbG9nb3MvZXJyb3JwYWdlL2Vycm9yX2xvZ28tMTUweDU0LTJ4LnBuZykgbm8tcmVwZWF0Oy13ZWJraXQtYmFja2dyb3VuZC1zaXplOjEwMCUgMTAwJX19I2xvZ297ZGlzcGxheTppbmxpbmUtYmxvY2s7aGVpZ2h0OjU0cHg7d2lkdGg6MTUwcHh9CiAgPC9zdHlsZT4KICA8YSBocmVmPS8vd3d3Lmdvb2dsZS5jb20vPjxzcGFuIGlkPWxvZ28gYXJpYS1sYWJlbD1Hb29nbGU+PC9zcGFuPjwvYT4KICA8cD48Yj40MDQuPC9iPiA8aW5zPlRoYXTigJlzIGFuIGVycm9yLjwvaW5zPgogIDxwPiAgPGlucz5UaGF04oCZcyBhbGwgd2Uga25vdy48L2lucz4K",
       "headers": [
        [
         "content-length",
         "1449"
        ],
        [
         "content-type",
         "text/html; charset=utf-8"
        ]
       ],
       "ok": false,
       "status": 404,
       "status_text": ""
      }
     }
    },
    "colab_type": "code",
    "id": "Aj3j2uBUhOnM",
    "outputId": "7a4e54aa-3adc-4114-a318-d96e9b9a3c96"
   },
   "outputs": [],
   "source": [
    "chart_grad5yr = alt.Chart(cps_df).mark_rect().encode(\n",
    "    x=alt.X('Rate_Grad_5yr_2019', bin=alt.Bin(maxbins=30), axis=alt.Axis(format='%', title='Graduation Rate')),\n",
    "    y='majority_race:N',\n",
    "    color='count()'\n",
    ").transform_filter(\n",
    "    (datum.Is_High_School == True) & (datum.Rate_Grad_5yr_2019 != 0)\n",
    ").properties(\n",
    "    width=500,\n",
    "    height=200,\n",
    "    title={\n",
    "      \"text\": [\"Chicago Public Schools 5-yr Graduation Rates\", \"by Majority Race\"], \n",
    "      \"subtitle\": [\"Majority Black schools are falling behind in graduation rates.\",\n",
    "                   \"[Source: City of Chicago Data Portal, CPS.edu School Data]\"],\n",
    "      \"color\": teal,\n",
    "      \"subtitleColor\": purple\n",
    "    }\n",
    ")\n",
    "'''\n",
    ".configure_title(\n",
    "    subtitleFontSize=12,\n",
    ")\n",
    "'''\n",
    "'''\n",
    "heatmap = alt.Chart(source).mark_rect().encode(\n",
    "    alt.X('IMDB_Rating:Q', bin=True),\n",
    "    alt.Y('Rotten_Tomatoes_Rating:Q', bin=True),\n",
    "    alt.Color('count()', scale=alt.Scale(scheme='greenblue'))\n",
    ")\n",
    "'''\n",
    "\n",
    "chart_grad5yr_pts = alt.Chart(cps_df).mark_circle(\n",
    "    color='black',\n",
    "    size=5,\n",
    ").encode(\n",
    "    x='Rate_Grad_5yr_2019',\n",
    "    y='majority_race:N',\n",
    ")\n",
    "\n",
    "chart_grad5yr + chart_grad5yr_pts\n",
    "#chart_grad5yr"
   ]
  },
  {
   "cell_type": "code",
   "execution_count": null,
   "metadata": {
    "colab": {},
    "colab_type": "code",
    "id": "UcYubjGZXgbH"
   },
   "outputs": [],
   "source": [
    "chart_drop5yr = alt.Chart(cps_df).mark_point(shape='triangle', size=50).encode(\n",
    "    x=alt.X('Rate_Dropout_5yr_2019:Q', axis=alt.Axis(format='%', title='Dropout Rate')),\n",
    "    y='majority_race:N',\n",
    "    color='Rating_Status:N',\n",
    ").transform_filter(\n",
    "    (datum.Is_High_School == True) & (datum.Rating_Status != 'NOT APPLICABLE')\n",
    ").properties(\n",
    "    width=500,\n",
    "    height=200,\n",
    "    title={\n",
    "      \"text\": [\"Chicago Public Schools 5-yr Dropout Rates\", \"by Majority Race\"], \n",
    "      \"subtitle\": [\"CPS seems to correctly identify high-dropout schools to be in need of intensive support.\", \n",
    "                   \"Many of these schools are majority Black.\",\n",
    "                   \"[Source: City of Chicago Data Portal, CPS.edu School Data]\"],\n",
    "      \"color\": teal,\n",
    "      \"subtitleColor\": purple\n",
    "    }\n",
    ").configure_title(\n",
    "    subtitleFontSize=12,\n",
    ")\n",
    "#chart_drop5yr"
   ]
  },
  {
   "cell_type": "code",
   "execution_count": null,
   "metadata": {
    "colab": {
     "base_uri": "https://localhost:8080/",
     "height": 198,
     "resources": {
      "http://localhost:8080/altair-data-d8ecf8521bebc38802db2fbbfb6078a9.csv": {
       "data": "CjwhRE9DVFlQRSBodG1sPgo8aHRtbCBsYW5nPWVuPgogIDxtZXRhIGNoYXJzZXQ9dXRmLTg+CiAgPG1ldGEgbmFtZT12aWV3cG9ydCBjb250ZW50PSJpbml0aWFsLXNjYWxlPTEsIG1pbmltdW0tc2NhbGU9MSwgd2lkdGg9ZGV2aWNlLXdpZHRoIj4KICA8dGl0bGU+RXJyb3IgNDA0IChOb3QgRm91bmQpISExPC90aXRsZT4KICA8c3R5bGU+CiAgICAqe21hcmdpbjowO3BhZGRpbmc6MH1odG1sLGNvZGV7Zm9udDoxNXB4LzIycHggYXJpYWwsc2Fucy1zZXJpZn1odG1se2JhY2tncm91bmQ6I2ZmZjtjb2xvcjojMjIyO3BhZGRpbmc6MTVweH1ib2R5e21hcmdpbjo3JSBhdXRvIDA7bWF4LXdpZHRoOjM5MHB4O21pbi1oZWlnaHQ6MTgwcHg7cGFkZGluZzozMHB4IDAgMTVweH0qID4gYm9keXtiYWNrZ3JvdW5kOnVybCgvL3d3dy5nb29nbGUuY29tL2ltYWdlcy9lcnJvcnMvcm9ib3QucG5nKSAxMDAlIDVweCBuby1yZXBlYXQ7cGFkZGluZy1yaWdodDoyMDVweH1we21hcmdpbjoxMXB4IDAgMjJweDtvdmVyZmxvdzpoaWRkZW59aW5ze2NvbG9yOiM3Nzc7dGV4dC1kZWNvcmF0aW9uOm5vbmV9YSBpbWd7Ym9yZGVyOjB9QG1lZGlhIHNjcmVlbiBhbmQgKG1heC13aWR0aDo3NzJweCl7Ym9keXtiYWNrZ3JvdW5kOm5vbmU7bWFyZ2luLXRvcDowO21heC13aWR0aDpub25lO3BhZGRpbmctcmlnaHQ6MH19I2xvZ297YmFja2dyb3VuZDp1cmwoLy93d3cuZ29vZ2xlLmNvbS9pbWFnZXMvbG9nb3MvZXJyb3JwYWdlL2Vycm9yX2xvZ28tMTUweDU0LnBuZykgbm8tcmVwZWF0O21hcmdpbi1sZWZ0Oi01cHh9QG1lZGlhIG9ubHkgc2NyZWVuIGFuZCAobWluLXJlc29sdXRpb246MTkyZHBpKXsjbG9nb3tiYWNrZ3JvdW5kOnVybCgvL3d3dy5nb29nbGUuY29tL2ltYWdlcy9sb2dvcy9lcnJvcnBhZ2UvZXJyb3JfbG9nby0xNTB4NTQtMngucG5nKSBuby1yZXBlYXQgMCUgMCUvMTAwJSAxMDAlOy1tb3otYm9yZGVyLWltYWdlOnVybCgvL3d3dy5nb29nbGUuY29tL2ltYWdlcy9sb2dvcy9lcnJvcnBhZ2UvZXJyb3JfbG9nby0xNTB4NTQtMngucG5nKSAwfX1AbWVkaWEgb25seSBzY3JlZW4gYW5kICgtd2Via2l0LW1pbi1kZXZpY2UtcGl4ZWwtcmF0aW86Mil7I2xvZ297YmFja2dyb3VuZDp1cmwoLy93d3cuZ29vZ2xlLmNvbS9pbWFnZXMvbG9nb3MvZXJyb3JwYWdlL2Vycm9yX2xvZ28tMTUweDU0LTJ4LnBuZykgbm8tcmVwZWF0Oy13ZWJraXQtYmFja2dyb3VuZC1zaXplOjEwMCUgMTAwJX19I2xvZ297ZGlzcGxheTppbmxpbmUtYmxvY2s7aGVpZ2h0OjU0cHg7d2lkdGg6MTUwcHh9CiAgPC9zdHlsZT4KICA8YSBocmVmPS8vd3d3Lmdvb2dsZS5jb20vPjxzcGFuIGlkPWxvZ28gYXJpYS1sYWJlbD1Hb29nbGU+PC9zcGFuPjwvYT4KICA8cD48Yj40MDQuPC9iPiA8aW5zPlRoYXTigJlzIGFuIGVycm9yLjwvaW5zPgogIDxwPiAgPGlucz5UaGF04oCZcyBhbGwgd2Uga25vdy48L2lucz4K",
       "headers": [
        [
         "content-length",
         "1449"
        ],
        [
         "content-type",
         "text/html; charset=utf-8"
        ]
       ],
       "ok": false,
       "status": 404,
       "status_text": ""
      }
     }
    },
    "colab_type": "code",
    "id": "-5TfzIn-W_Fw",
    "outputId": "8640fbf2-821d-4f43-dec0-a5144bccf271"
   },
   "outputs": [],
   "source": [
    "alt.Chart(cps_df).mark_point().encode(\n",
    "    alt.X(alt.repeat(\"column\"), type='quantitative', axis=alt.Axis(format='%')),\n",
    "    alt.Y(alt.repeat(\"row\"), type='quantitative', axis=alt.Axis(format='%')),\n",
    "    color='Rating_Status:N'\n",
    ").properties(\n",
    "    width=150,\n",
    "    height=150\n",
    ").repeat(\n",
    "    row=['%low_inc'],\n",
    "    column=['%white', '%hisp']\n",
    ")"
   ]
  },
  {
   "cell_type": "code",
   "execution_count": null,
   "metadata": {
    "colab": {},
    "colab_type": "code",
    "id": "REc-hD3H-GwH"
   },
   "outputs": [],
   "source": [
    "chart_mean5yr = alt.Chart(aggs_df).mark_rect().encode(\n",
    "    y=alt.Y('group:N', axis=alt.Axis(title='', labels=False)),\n",
    "    x=alt.X('city_mean:Q', axis=alt.Axis(format='%', title='Citywide Average')),\n",
    "    row='rate_description:N',\n",
    "    color='group:N'\n",
    ").transform_filter(\n",
    "    alt.FieldOneOfPredicate(field='group', oneOf=['no_majority_HS_5yr_cohort',\n",
    "                                                  'majority_black_HS_5yr_cohort',\n",
    "                                                  'majority_hisp_HS_5yr_cohort'])\n",
    ").transform_filter(\n",
    "    {'not': alt.FieldOneOfPredicate(field='rate_description', oneOf=['other_rate'])}\n",
    ").properties(\n",
    "    width=300,\n",
    "    height=100,\n",
    "    title={\n",
    "      \"text\": [\"Chicago Public Schools 5-yr Mean Outcomes by Majority Race\", \"(Citywide Average Graduation and Dropout Rates)\"], \n",
    "      \"subtitle\": [\"Majority Black high schools on average have a much higher dropout rate.\",\n",
    "                   \"[Source: City of Chicago Data Portal, CPS.edu School Data]\"],\n",
    "      \"color\": teal,\n",
    "      \"subtitleColor\": purple\n",
    "    }\n",
    ").configure_title(\n",
    "    subtitleFontSize=12,\n",
    ")\n",
    "#chart_mean5yr"
   ]
  },
  {
   "cell_type": "markdown",
   "metadata": {
    "colab_type": "text",
    "id": "i_DmkpH5DrYQ"
   },
   "source": [
    "#### Graphics"
   ]
  },
  {
   "cell_type": "code",
   "execution_count": null,
   "metadata": {
    "colab": {
     "base_uri": "https://localhost:8080/",
     "height": 318,
     "resources": {
      "http://localhost:8080/altair-data-d8ecf8521bebc38802db2fbbfb6078a9.csv": {
       "data": "CjwhRE9DVFlQRSBodG1sPgo8aHRtbCBsYW5nPWVuPgogIDxtZXRhIGNoYXJzZXQ9dXRmLTg+CiAgPG1ldGEgbmFtZT12aWV3cG9ydCBjb250ZW50PSJpbml0aWFsLXNjYWxlPTEsIG1pbmltdW0tc2NhbGU9MSwgd2lkdGg9ZGV2aWNlLXdpZHRoIj4KICA8dGl0bGU+RXJyb3IgNDA0IChOb3QgRm91bmQpISExPC90aXRsZT4KICA8c3R5bGU+CiAgICAqe21hcmdpbjowO3BhZGRpbmc6MH1odG1sLGNvZGV7Zm9udDoxNXB4LzIycHggYXJpYWwsc2Fucy1zZXJpZn1odG1se2JhY2tncm91bmQ6I2ZmZjtjb2xvcjojMjIyO3BhZGRpbmc6MTVweH1ib2R5e21hcmdpbjo3JSBhdXRvIDA7bWF4LXdpZHRoOjM5MHB4O21pbi1oZWlnaHQ6MTgwcHg7cGFkZGluZzozMHB4IDAgMTVweH0qID4gYm9keXtiYWNrZ3JvdW5kOnVybCgvL3d3dy5nb29nbGUuY29tL2ltYWdlcy9lcnJvcnMvcm9ib3QucG5nKSAxMDAlIDVweCBuby1yZXBlYXQ7cGFkZGluZy1yaWdodDoyMDVweH1we21hcmdpbjoxMXB4IDAgMjJweDtvdmVyZmxvdzpoaWRkZW59aW5ze2NvbG9yOiM3Nzc7dGV4dC1kZWNvcmF0aW9uOm5vbmV9YSBpbWd7Ym9yZGVyOjB9QG1lZGlhIHNjcmVlbiBhbmQgKG1heC13aWR0aDo3NzJweCl7Ym9keXtiYWNrZ3JvdW5kOm5vbmU7bWFyZ2luLXRvcDowO21heC13aWR0aDpub25lO3BhZGRpbmctcmlnaHQ6MH19I2xvZ297YmFja2dyb3VuZDp1cmwoLy93d3cuZ29vZ2xlLmNvbS9pbWFnZXMvbG9nb3MvZXJyb3JwYWdlL2Vycm9yX2xvZ28tMTUweDU0LnBuZykgbm8tcmVwZWF0O21hcmdpbi1sZWZ0Oi01cHh9QG1lZGlhIG9ubHkgc2NyZWVuIGFuZCAobWluLXJlc29sdXRpb246MTkyZHBpKXsjbG9nb3tiYWNrZ3JvdW5kOnVybCgvL3d3dy5nb29nbGUuY29tL2ltYWdlcy9sb2dvcy9lcnJvcnBhZ2UvZXJyb3JfbG9nby0xNTB4NTQtMngucG5nKSBuby1yZXBlYXQgMCUgMCUvMTAwJSAxMDAlOy1tb3otYm9yZGVyLWltYWdlOnVybCgvL3d3dy5nb29nbGUuY29tL2ltYWdlcy9sb2dvcy9lcnJvcnBhZ2UvZXJyb3JfbG9nby0xNTB4NTQtMngucG5nKSAwfX1AbWVkaWEgb25seSBzY3JlZW4gYW5kICgtd2Via2l0LW1pbi1kZXZpY2UtcGl4ZWwtcmF0aW86Mil7I2xvZ297YmFja2dyb3VuZDp1cmwoLy93d3cuZ29vZ2xlLmNvbS9pbWFnZXMvbG9nb3MvZXJyb3JwYWdlL2Vycm9yX2xvZ28tMTUweDU0LTJ4LnBuZykgbm8tcmVwZWF0Oy13ZWJraXQtYmFja2dyb3VuZC1zaXplOjEwMCUgMTAwJX19I2xvZ297ZGlzcGxheTppbmxpbmUtYmxvY2s7aGVpZ2h0OjU0cHg7d2lkdGg6MTUwcHh9CiAgPC9zdHlsZT4KICA8YSBocmVmPS8vd3d3Lmdvb2dsZS5jb20vPjxzcGFuIGlkPWxvZ28gYXJpYS1sYWJlbD1Hb29nbGU+PC9zcGFuPjwvYT4KICA8cD48Yj40MDQuPC9iPiA8aW5zPlRoYXTigJlzIGFuIGVycm9yLjwvaW5zPgogIDxwPiAgPGlucz5UaGF04oCZcyBhbGwgd2Uga25vdy48L2lucz4K",
       "headers": [
        [
         "content-length",
         "1449"
        ],
        [
         "content-type",
         "text/html; charset=utf-8"
        ]
       ],
       "ok": false,
       "status": 404,
       "status_text": ""
      }
     }
    },
    "colab_type": "code",
    "id": "6d6hPd8_E6m1",
    "outputId": "6f66aaa5-1a07-4839-9b3f-bffef4c53621"
   },
   "outputs": [],
   "source": [
    "chart_grad5yr"
   ]
  },
  {
   "cell_type": "markdown",
   "metadata": {
    "colab_type": "text",
    "id": "8xCmtzZLNkBo"
   },
   "source": [
    "Although there are plenty of majority white elementary schools, there are only majority Black or majority Hispanic public high schools in Chicago (making up about 48% and 39% of high schools, respectively). This might be a symptom of students going into private schools or going into large selective enrollment / competitive high schools that draw from all parts of the city. This in turn may mean that majority-race high schools could be made up of mostly neighborhood schools, therefore once again revealing the racial segregation of the city.\n",
    "\n",
    "Either way, it looks like majority black high schools are lagging behind in terms of percent of students in the same freshman cohort graduating by their 5th year of high school."
   ]
  },
  {
   "cell_type": "code",
   "execution_count": null,
   "metadata": {
    "colab": {
     "base_uri": "https://localhost:8080/",
     "height": 330,
     "resources": {
      "http://localhost:8080/altair-data-d8ecf8521bebc38802db2fbbfb6078a9.csv": {
       "data": "CjwhRE9DVFlQRSBodG1sPgo8aHRtbCBsYW5nPWVuPgogIDxtZXRhIGNoYXJzZXQ9dXRmLTg+CiAgPG1ldGEgbmFtZT12aWV3cG9ydCBjb250ZW50PSJpbml0aWFsLXNjYWxlPTEsIG1pbmltdW0tc2NhbGU9MSwgd2lkdGg9ZGV2aWNlLXdpZHRoIj4KICA8dGl0bGU+RXJyb3IgNDA0IChOb3QgRm91bmQpISExPC90aXRsZT4KICA8c3R5bGU+CiAgICAqe21hcmdpbjowO3BhZGRpbmc6MH1odG1sLGNvZGV7Zm9udDoxNXB4LzIycHggYXJpYWwsc2Fucy1zZXJpZn1odG1se2JhY2tncm91bmQ6I2ZmZjtjb2xvcjojMjIyO3BhZGRpbmc6MTVweH1ib2R5e21hcmdpbjo3JSBhdXRvIDA7bWF4LXdpZHRoOjM5MHB4O21pbi1oZWlnaHQ6MTgwcHg7cGFkZGluZzozMHB4IDAgMTVweH0qID4gYm9keXtiYWNrZ3JvdW5kOnVybCgvL3d3dy5nb29nbGUuY29tL2ltYWdlcy9lcnJvcnMvcm9ib3QucG5nKSAxMDAlIDVweCBuby1yZXBlYXQ7cGFkZGluZy1yaWdodDoyMDVweH1we21hcmdpbjoxMXB4IDAgMjJweDtvdmVyZmxvdzpoaWRkZW59aW5ze2NvbG9yOiM3Nzc7dGV4dC1kZWNvcmF0aW9uOm5vbmV9YSBpbWd7Ym9yZGVyOjB9QG1lZGlhIHNjcmVlbiBhbmQgKG1heC13aWR0aDo3NzJweCl7Ym9keXtiYWNrZ3JvdW5kOm5vbmU7bWFyZ2luLXRvcDowO21heC13aWR0aDpub25lO3BhZGRpbmctcmlnaHQ6MH19I2xvZ297YmFja2dyb3VuZDp1cmwoLy93d3cuZ29vZ2xlLmNvbS9pbWFnZXMvbG9nb3MvZXJyb3JwYWdlL2Vycm9yX2xvZ28tMTUweDU0LnBuZykgbm8tcmVwZWF0O21hcmdpbi1sZWZ0Oi01cHh9QG1lZGlhIG9ubHkgc2NyZWVuIGFuZCAobWluLXJlc29sdXRpb246MTkyZHBpKXsjbG9nb3tiYWNrZ3JvdW5kOnVybCgvL3d3dy5nb29nbGUuY29tL2ltYWdlcy9sb2dvcy9lcnJvcnBhZ2UvZXJyb3JfbG9nby0xNTB4NTQtMngucG5nKSBuby1yZXBlYXQgMCUgMCUvMTAwJSAxMDAlOy1tb3otYm9yZGVyLWltYWdlOnVybCgvL3d3dy5nb29nbGUuY29tL2ltYWdlcy9sb2dvcy9lcnJvcnBhZ2UvZXJyb3JfbG9nby0xNTB4NTQtMngucG5nKSAwfX1AbWVkaWEgb25seSBzY3JlZW4gYW5kICgtd2Via2l0LW1pbi1kZXZpY2UtcGl4ZWwtcmF0aW86Mil7I2xvZ297YmFja2dyb3VuZDp1cmwoLy93d3cuZ29vZ2xlLmNvbS9pbWFnZXMvbG9nb3MvZXJyb3JwYWdlL2Vycm9yX2xvZ28tMTUweDU0LTJ4LnBuZykgbm8tcmVwZWF0Oy13ZWJraXQtYmFja2dyb3VuZC1zaXplOjEwMCUgMTAwJX19I2xvZ297ZGlzcGxheTppbmxpbmUtYmxvY2s7aGVpZ2h0OjU0cHg7d2lkdGg6MTUwcHh9CiAgPC9zdHlsZT4KICA8YSBocmVmPS8vd3d3Lmdvb2dsZS5jb20vPjxzcGFuIGlkPWxvZ28gYXJpYS1sYWJlbD1Hb29nbGU+PC9zcGFuPjwvYT4KICA8cD48Yj40MDQuPC9iPiA8aW5zPlRoYXTigJlzIGFuIGVycm9yLjwvaW5zPgogIDxwPiAgPGlucz5UaGF04oCZcyBhbGwgd2Uga25vdy48L2lucz4K",
       "headers": [
        [
         "content-length",
         "1449"
        ],
        [
         "content-type",
         "text/html; charset=utf-8"
        ]
       ],
       "ok": false,
       "status": 404,
       "status_text": ""
      }
     }
    },
    "colab_type": "code",
    "id": "jkxRkA1hEv4N",
    "outputId": "602da8b0-d081-4280-f219-2c7976cc39de"
   },
   "outputs": [],
   "source": [
    "chart_drop5yr"
   ]
  },
  {
   "cell_type": "markdown",
   "metadata": {
    "colab_type": "text",
    "id": "g2QvUrGTQc4O"
   },
   "source": [
    "The drop out rates of Chicago's schools are generally too high for comfort, but it seems like CPS is correctly identifying schools with high dropouts to be in need of more support. However, there seems to be a lower threshold for this rating status with majority Black schools compared to majority Hispanic schools. This might be worrisome for majority Hispanic schools that may need more attention and resources."
   ]
  },
  {
   "cell_type": "code",
   "execution_count": null,
   "metadata": {
    "colab": {
     "base_uri": "https://localhost:8080/",
     "height": 35,
     "resources": {
      "http://localhost:8080/altair-data-e261718586d5cb4b961e116130a9ac50.csv": {
       "data": "CjwhRE9DVFlQRSBodG1sPgo8aHRtbCBsYW5nPWVuPgogIDxtZXRhIGNoYXJzZXQ9dXRmLTg+CiAgPG1ldGEgbmFtZT12aWV3cG9ydCBjb250ZW50PSJpbml0aWFsLXNjYWxlPTEsIG1pbmltdW0tc2NhbGU9MSwgd2lkdGg9ZGV2aWNlLXdpZHRoIj4KICA8dGl0bGU+RXJyb3IgNDA0IChOb3QgRm91bmQpISExPC90aXRsZT4KICA8c3R5bGU+CiAgICAqe21hcmdpbjowO3BhZGRpbmc6MH1odG1sLGNvZGV7Zm9udDoxNXB4LzIycHggYXJpYWwsc2Fucy1zZXJpZn1odG1se2JhY2tncm91bmQ6I2ZmZjtjb2xvcjojMjIyO3BhZGRpbmc6MTVweH1ib2R5e21hcmdpbjo3JSBhdXRvIDA7bWF4LXdpZHRoOjM5MHB4O21pbi1oZWlnaHQ6MTgwcHg7cGFkZGluZzozMHB4IDAgMTVweH0qID4gYm9keXtiYWNrZ3JvdW5kOnVybCgvL3d3dy5nb29nbGUuY29tL2ltYWdlcy9lcnJvcnMvcm9ib3QucG5nKSAxMDAlIDVweCBuby1yZXBlYXQ7cGFkZGluZy1yaWdodDoyMDVweH1we21hcmdpbjoxMXB4IDAgMjJweDtvdmVyZmxvdzpoaWRkZW59aW5ze2NvbG9yOiM3Nzc7dGV4dC1kZWNvcmF0aW9uOm5vbmV9YSBpbWd7Ym9yZGVyOjB9QG1lZGlhIHNjcmVlbiBhbmQgKG1heC13aWR0aDo3NzJweCl7Ym9keXtiYWNrZ3JvdW5kOm5vbmU7bWFyZ2luLXRvcDowO21heC13aWR0aDpub25lO3BhZGRpbmctcmlnaHQ6MH19I2xvZ297YmFja2dyb3VuZDp1cmwoLy93d3cuZ29vZ2xlLmNvbS9pbWFnZXMvbG9nb3MvZXJyb3JwYWdlL2Vycm9yX2xvZ28tMTUweDU0LnBuZykgbm8tcmVwZWF0O21hcmdpbi1sZWZ0Oi01cHh9QG1lZGlhIG9ubHkgc2NyZWVuIGFuZCAobWluLXJlc29sdXRpb246MTkyZHBpKXsjbG9nb3tiYWNrZ3JvdW5kOnVybCgvL3d3dy5nb29nbGUuY29tL2ltYWdlcy9sb2dvcy9lcnJvcnBhZ2UvZXJyb3JfbG9nby0xNTB4NTQtMngucG5nKSBuby1yZXBlYXQgMCUgMCUvMTAwJSAxMDAlOy1tb3otYm9yZGVyLWltYWdlOnVybCgvL3d3dy5nb29nbGUuY29tL2ltYWdlcy9sb2dvcy9lcnJvcnBhZ2UvZXJyb3JfbG9nby0xNTB4NTQtMngucG5nKSAwfX1AbWVkaWEgb25seSBzY3JlZW4gYW5kICgtd2Via2l0LW1pbi1kZXZpY2UtcGl4ZWwtcmF0aW86Mil7I2xvZ297YmFja2dyb3VuZDp1cmwoLy93d3cuZ29vZ2xlLmNvbS9pbWFnZXMvbG9nb3MvZXJyb3JwYWdlL2Vycm9yX2xvZ28tMTUweDU0LTJ4LnBuZykgbm8tcmVwZWF0Oy13ZWJraXQtYmFja2dyb3VuZC1zaXplOjEwMCUgMTAwJX19I2xvZ297ZGlzcGxheTppbmxpbmUtYmxvY2s7aGVpZ2h0OjU0cHg7d2lkdGg6MTUwcHh9CiAgPC9zdHlsZT4KICA8YSBocmVmPS8vd3d3Lmdvb2dsZS5jb20vPjxzcGFuIGlkPWxvZ28gYXJpYS1sYWJlbD1Hb29nbGU+PC9zcGFuPjwvYT4KICA8cD48Yj40MDQuPC9iPiA8aW5zPlRoYXTigJlzIGFuIGVycm9yLjwvaW5zPgogIDxwPiAgPGlucz5UaGF04oCZcyBhbGwgd2Uga25vdy48L2lucz4K",
       "headers": [
        [
         "content-length",
         "1449"
        ],
        [
         "content-type",
         "text/html; charset=utf-8"
        ]
       ],
       "ok": false,
       "status": 404,
       "status_text": ""
      }
     }
    },
    "colab_type": "code",
    "id": "in0Oe3ntD25I",
    "outputId": "28c9f4a8-ec5b-43a6-8c23-96423f9f88f2"
   },
   "outputs": [],
   "source": [
    "chart_mean5yr"
   ]
  },
  {
   "cell_type": "markdown",
   "metadata": {
    "colab_type": "text",
    "id": "KvPE2yl1T6lG"
   },
   "source": [
    "Consistent with the previous two charts, we observe that the average majority black high school in Chicago has a much higher dropout rate and much lower graduation rate than other schools. Majority Hispanic schools are also at a disadvantage compared to no-race-majority high schools."
   ]
  },
  {
   "cell_type": "markdown",
   "metadata": {
    "colab_type": "text",
    "id": "soml2AAdz8YS"
   },
   "source": [
    "### CHARTS: (Trying Isotope Graph)"
   ]
  },
  {
   "cell_type": "code",
   "execution_count": null,
   "metadata": {
    "colab": {},
    "colab_type": "code",
    "id": "k9byQqhw5bgq"
   },
   "outputs": [],
   "source": [
    "person = (\n",
    "    \"M1.7 -1.7h-0.8c0.3 -0.2 0.6 -0.5 0.6 -0.9c0 -0.6 \"\n",
    "    \"-0.4 -1 -1 -1c-0.6 0 -1 0.4 -1 1c0 0.4 0.2 0.7 0.6 \"\n",
    "    \"0.9h-0.8c-0.4 0 -0.7 0.3 -0.7 0.6v1.9c0 0.3 0.3 0.6 \"\n",
    "    \"0.6 0.6h0.2c0 0 0 0.1 0 0.1v1.9c0 0.3 0.2 0.6 0.3 \"\n",
    "    \"0.6h1.3c0.2 0 0.3 -0.3 0.3 -0.6v-1.8c0 0 0 -0.1 0 \"\n",
    "    \"-0.1h0.2c0.3 0 0.6 -0.3 0.6 -0.6v-2c0.2 -0.3 -0.1 \"\n",
    "    \"-0.6 -0.4 -0.6z\"\n",
    ")"
   ]
  },
  {
   "cell_type": "code",
   "execution_count": null,
   "metadata": {
    "colab": {
     "base_uri": "https://localhost:8080/",
     "height": 0,
     "resources": {
      "http://localhost:8080/altair-data-e261718586d5cb4b961e116130a9ac50.csv": {
       "data": "CjwhRE9DVFlQRSBodG1sPgo8aHRtbCBsYW5nPWVuPgogIDxtZXRhIGNoYXJzZXQ9dXRmLTg+CiAgPG1ldGEgbmFtZT12aWV3cG9ydCBjb250ZW50PSJpbml0aWFsLXNjYWxlPTEsIG1pbmltdW0tc2NhbGU9MSwgd2lkdGg9ZGV2aWNlLXdpZHRoIj4KICA8dGl0bGU+RXJyb3IgNDA0IChOb3QgRm91bmQpISExPC90aXRsZT4KICA8c3R5bGU+CiAgICAqe21hcmdpbjowO3BhZGRpbmc6MH1odG1sLGNvZGV7Zm9udDoxNXB4LzIycHggYXJpYWwsc2Fucy1zZXJpZn1odG1se2JhY2tncm91bmQ6I2ZmZjtjb2xvcjojMjIyO3BhZGRpbmc6MTVweH1ib2R5e21hcmdpbjo3JSBhdXRvIDA7bWF4LXdpZHRoOjM5MHB4O21pbi1oZWlnaHQ6MTgwcHg7cGFkZGluZzozMHB4IDAgMTVweH0qID4gYm9keXtiYWNrZ3JvdW5kOnVybCgvL3d3dy5nb29nbGUuY29tL2ltYWdlcy9lcnJvcnMvcm9ib3QucG5nKSAxMDAlIDVweCBuby1yZXBlYXQ7cGFkZGluZy1yaWdodDoyMDVweH1we21hcmdpbjoxMXB4IDAgMjJweDtvdmVyZmxvdzpoaWRkZW59aW5ze2NvbG9yOiM3Nzc7dGV4dC1kZWNvcmF0aW9uOm5vbmV9YSBpbWd7Ym9yZGVyOjB9QG1lZGlhIHNjcmVlbiBhbmQgKG1heC13aWR0aDo3NzJweCl7Ym9keXtiYWNrZ3JvdW5kOm5vbmU7bWFyZ2luLXRvcDowO21heC13aWR0aDpub25lO3BhZGRpbmctcmlnaHQ6MH19I2xvZ297YmFja2dyb3VuZDp1cmwoLy93d3cuZ29vZ2xlLmNvbS9pbWFnZXMvbG9nb3MvZXJyb3JwYWdlL2Vycm9yX2xvZ28tMTUweDU0LnBuZykgbm8tcmVwZWF0O21hcmdpbi1sZWZ0Oi01cHh9QG1lZGlhIG9ubHkgc2NyZWVuIGFuZCAobWluLXJlc29sdXRpb246MTkyZHBpKXsjbG9nb3tiYWNrZ3JvdW5kOnVybCgvL3d3dy5nb29nbGUuY29tL2ltYWdlcy9sb2dvcy9lcnJvcnBhZ2UvZXJyb3JfbG9nby0xNTB4NTQtMngucG5nKSBuby1yZXBlYXQgMCUgMCUvMTAwJSAxMDAlOy1tb3otYm9yZGVyLWltYWdlOnVybCgvL3d3dy5nb29nbGUuY29tL2ltYWdlcy9sb2dvcy9lcnJvcnBhZ2UvZXJyb3JfbG9nby0xNTB4NTQtMngucG5nKSAwfX1AbWVkaWEgb25seSBzY3JlZW4gYW5kICgtd2Via2l0LW1pbi1kZXZpY2UtcGl4ZWwtcmF0aW86Mil7I2xvZ297YmFja2dyb3VuZDp1cmwoLy93d3cuZ29vZ2xlLmNvbS9pbWFnZXMvbG9nb3MvZXJyb3JwYWdlL2Vycm9yX2xvZ28tMTUweDU0LTJ4LnBuZykgbm8tcmVwZWF0Oy13ZWJraXQtYmFja2dyb3VuZC1zaXplOjEwMCUgMTAwJX19I2xvZ297ZGlzcGxheTppbmxpbmUtYmxvY2s7aGVpZ2h0OjU0cHg7d2lkdGg6MTUwcHh9CiAgPC9zdHlsZT4KICA8YSBocmVmPS8vd3d3Lmdvb2dsZS5jb20vPjxzcGFuIGlkPWxvZ28gYXJpYS1sYWJlbD1Hb29nbGU+PC9zcGFuPjwvYT4KICA8cD48Yj40MDQuPC9iPiA8aW5zPlRoYXTigJlzIGFuIGVycm9yLjwvaW5zPgogIDxwPiAgPGlucz5UaGF04oCZcyBhbGwgd2Uga25vdy48L2lucz4K",
       "headers": [
        [
         "content-length",
         "1449"
        ],
        [
         "content-type",
         "text/html; charset=utf-8"
        ]
       ],
       "ok": false,
       "status": 404,
       "status_text": ""
      }
     }
    },
    "colab_type": "code",
    "id": "lcFpLjqjkokS",
    "outputId": "95ec6f7a-e418-46a8-fc08-d921202776ad"
   },
   "outputs": [],
   "source": [
    "'''\n",
    "source = pd.DataFrame([\n",
    "      {'country': 'Great Britain', 'animal': 'cattle'},\n",
    "      {'country': 'Great Britain', 'animal': 'cattle'},\n",
    "    ])\n",
    "\n",
    "domains = ['person']\n",
    "'''\n",
    "shape_scale = alt.Scale(\n",
    "    #domain=domains,\n",
    "    range=['M1.7 -1.7h-0.8c0.3 -0.2 0.6 -0.5 0.6 -0.9c0 -0.6 -0.4 -1 -1 -1c-0.6 0 -1 0.4 -1 1c0 0.4 0.2 0.7 0.6 0.9h-0.8c-0.4 0 -0.7 0.3 -0.7 0.6v1.9c0 0.3 0.3 0.6 0.6 0.6h0.2c0 0 0 0.1 0 0.1v1.9c0 0.3 0.2 0.6 0.3 0.6h1.3c0.2 0 0.3 -0.3 0.3 -0.6v-1.8c0 0 0 -0.1 0 -0.1h0.2c0.3 0 0.6 -0.3 0.6 -0.6v-2c0.2 -0.3 -0.1 -0.6 -0.4 -0.6z']\n",
    ")\n",
    "\n",
    "#domains = []\n",
    "\n",
    "color_scale = alt.Scale(\n",
    "    #domain=domains,\n",
    "    range=[mint, teal, blue, purple]\n",
    ")\n",
    "\n",
    "alt.Chart(aggs_df).mark_point(filled=True, opacity=1, size=100).encode(\n",
    "    alt.X('city_mean*100:Q', axis=None),\n",
    "    alt.Y('rate_description:N', axis=None),\n",
    "    #alt.Row('country:N', header=alt.Header(title='')),\n",
    "    #shape=alt.ShapeValue(person),\n",
    "    alt.Shape('rate_description:N', legend=None, scale=shape_scale),\n",
    "    alt.Color('rate_description:N', legend=None, scale=color_scale),\n",
    ").transform_window(\n",
    "    x='rank()'\n",
    "    #groupby=['country', 'animal']\n",
    ").properties(width=550, height=140)"
   ]
  },
  {
   "cell_type": "code",
   "execution_count": null,
   "metadata": {
    "colab": {
     "base_uri": "https://localhost:8080/",
     "height": 0,
     "resources": {
      "http://localhost:8080/altair-data-d8ecf8521bebc38802db2fbbfb6078a9.csv": {
       "data": "CjwhRE9DVFlQRSBodG1sPgo8aHRtbCBsYW5nPWVuPgogIDxtZXRhIGNoYXJzZXQ9dXRmLTg+CiAgPG1ldGEgbmFtZT12aWV3cG9ydCBjb250ZW50PSJpbml0aWFsLXNjYWxlPTEsIG1pbmltdW0tc2NhbGU9MSwgd2lkdGg9ZGV2aWNlLXdpZHRoIj4KICA8dGl0bGU+RXJyb3IgNDA0IChOb3QgRm91bmQpISExPC90aXRsZT4KICA8c3R5bGU+CiAgICAqe21hcmdpbjowO3BhZGRpbmc6MH1odG1sLGNvZGV7Zm9udDoxNXB4LzIycHggYXJpYWwsc2Fucy1zZXJpZn1odG1se2JhY2tncm91bmQ6I2ZmZjtjb2xvcjojMjIyO3BhZGRpbmc6MTVweH1ib2R5e21hcmdpbjo3JSBhdXRvIDA7bWF4LXdpZHRoOjM5MHB4O21pbi1oZWlnaHQ6MTgwcHg7cGFkZGluZzozMHB4IDAgMTVweH0qID4gYm9keXtiYWNrZ3JvdW5kOnVybCgvL3d3dy5nb29nbGUuY29tL2ltYWdlcy9lcnJvcnMvcm9ib3QucG5nKSAxMDAlIDVweCBuby1yZXBlYXQ7cGFkZGluZy1yaWdodDoyMDVweH1we21hcmdpbjoxMXB4IDAgMjJweDtvdmVyZmxvdzpoaWRkZW59aW5ze2NvbG9yOiM3Nzc7dGV4dC1kZWNvcmF0aW9uOm5vbmV9YSBpbWd7Ym9yZGVyOjB9QG1lZGlhIHNjcmVlbiBhbmQgKG1heC13aWR0aDo3NzJweCl7Ym9keXtiYWNrZ3JvdW5kOm5vbmU7bWFyZ2luLXRvcDowO21heC13aWR0aDpub25lO3BhZGRpbmctcmlnaHQ6MH19I2xvZ297YmFja2dyb3VuZDp1cmwoLy93d3cuZ29vZ2xlLmNvbS9pbWFnZXMvbG9nb3MvZXJyb3JwYWdlL2Vycm9yX2xvZ28tMTUweDU0LnBuZykgbm8tcmVwZWF0O21hcmdpbi1sZWZ0Oi01cHh9QG1lZGlhIG9ubHkgc2NyZWVuIGFuZCAobWluLXJlc29sdXRpb246MTkyZHBpKXsjbG9nb3tiYWNrZ3JvdW5kOnVybCgvL3d3dy5nb29nbGUuY29tL2ltYWdlcy9sb2dvcy9lcnJvcnBhZ2UvZXJyb3JfbG9nby0xNTB4NTQtMngucG5nKSBuby1yZXBlYXQgMCUgMCUvMTAwJSAxMDAlOy1tb3otYm9yZGVyLWltYWdlOnVybCgvL3d3dy5nb29nbGUuY29tL2ltYWdlcy9sb2dvcy9lcnJvcnBhZ2UvZXJyb3JfbG9nby0xNTB4NTQtMngucG5nKSAwfX1AbWVkaWEgb25seSBzY3JlZW4gYW5kICgtd2Via2l0LW1pbi1kZXZpY2UtcGl4ZWwtcmF0aW86Mil7I2xvZ297YmFja2dyb3VuZDp1cmwoLy93d3cuZ29vZ2xlLmNvbS9pbWFnZXMvbG9nb3MvZXJyb3JwYWdlL2Vycm9yX2xvZ28tMTUweDU0LTJ4LnBuZykgbm8tcmVwZWF0Oy13ZWJraXQtYmFja2dyb3VuZC1zaXplOjEwMCUgMTAwJX19I2xvZ297ZGlzcGxheTppbmxpbmUtYmxvY2s7aGVpZ2h0OjU0cHg7d2lkdGg6MTUwcHh9CiAgPC9zdHlsZT4KICA8YSBocmVmPS8vd3d3Lmdvb2dsZS5jb20vPjxzcGFuIGlkPWxvZ28gYXJpYS1sYWJlbD1Hb29nbGU+PC9zcGFuPjwvYT4KICA8cD48Yj40MDQuPC9iPiA8aW5zPlRoYXTigJlzIGFuIGVycm9yLjwvaW5zPgogIDxwPiAgPGlucz5UaGF04oCZcyBhbGwgd2Uga25vdy48L2lucz4K",
       "headers": [
        [
         "content-length",
         "1449"
        ],
        [
         "content-type",
         "text/html; charset=utf-8"
        ]
       ],
       "ok": false,
       "status": 404,
       "status_text": ""
      }
     }
    },
    "colab_type": "code",
    "id": "p_d62Lhx5Us6",
    "outputId": "e73a961d-29ea-4b77-f3be-c2ee68bcacaa"
   },
   "outputs": [],
   "source": [
    "alt.Chart(cps_df).mark_text(size=45, baseline='middle').encode(\n",
    "    alt.X('x:O', axis=None),\n",
    "    alt.Y('animal:O', axis=None),\n",
    "    alt.Row('country:N', header=alt.Header(title='')),\n",
    "    alt.Text('emoji:N')\n",
    ").transform_calculate(\n",
    "    emoji=\"{'cattle': '🐄', 'pigs': '🐖', 'sheep': '🐏'}[datum.animal]\"\n",
    ").transform_window(\n",
    "    x='rank()',\n",
    "    groupby=['country', 'animal']\n",
    ").properties(width=550, height=140)"
   ]
  },
  {
   "cell_type": "markdown",
   "metadata": {
    "colab_type": "text",
    "id": "wTRygDe06O_L"
   },
   "source": [
    "## CRIME DATA"
   ]
  },
  {
   "cell_type": "markdown",
   "metadata": {
    "colab_type": "text",
    "id": "eucyJ0f762HT"
   },
   "source": [
    "### Read, Explore, Modify Data\n",
    "- ***crime_df***"
   ]
  },
  {
   "cell_type": "code",
   "execution_count": null,
   "metadata": {
    "colab": {},
    "colab_type": "code",
    "id": "dc_HDxAs69zm"
   },
   "outputs": [],
   "source": [
    "# Read/Load\n",
    "crime_df = read_csv(CRIMES_18 + \".csv\", col_types={'ID':str, 'Community Area':str, 'Beat':str, 'District':str, 'Ward':str})"
   ]
  },
  {
   "cell_type": "code",
   "execution_count": null,
   "metadata": {
    "colab": {
     "base_uri": "https://localhost:8080/",
     "height": 561
    },
    "colab_type": "code",
    "id": "tcU5-PDj70r4",
    "outputId": "97424e78-e369-4b90-8291-1b8ca63e11d1"
   },
   "outputs": [],
   "source": [
    "# Explore\n",
    "print('SHAPE:', crime_df.shape)\n",
    "print('COLUMNS:', crime_df.columns)\n",
    "print('DATATYPES:', crime_df.dtypes)\n",
    "print('UNIQUE VALUES - Offense Types:', crime_df['Primary Type'].nunique())\n",
    "print('UNIQUE VALUES - Community Areas:', crime_df['Community Area'].nunique())"
   ]
  },
  {
   "cell_type": "code",
   "execution_count": null,
   "metadata": {
    "colab": {},
    "colab_type": "code",
    "id": "owqR767e7pXE"
   },
   "outputs": [],
   "source": [
    "''' ADD/MODIFY ATTRIBUTES '''\n",
    "# Dates\n",
    "crime_df['Date'] = pd.to_datetime(crime_df['Date'])\n",
    "crime_df['Year'] = crime_df['Date'].dt.year\n",
    "crime_df['Month'] = crime_df['Date'].dt.month\n",
    "\n",
    "# Rename column\n",
    "crime_df.rename(columns = {'Primary Type':'Offense Type'}, inplace = True)"
   ]
  },
  {
   "cell_type": "markdown",
   "metadata": {
    "colab_type": "text",
    "id": "NcQwPypb9OfW"
   },
   "source": [
    "### Crime by Neighborhood"
   ]
  },
  {
   "cell_type": "markdown",
   "metadata": {
    "colab_type": "text",
    "id": "366YHJhJGs6K"
   },
   "source": [
    "#### Group Data by Community Area\n",
    "\n",
    "- ***hood_crime_type df***\n",
    "- ***hood_crimes df***"
   ]
  },
  {
   "cell_type": "code",
   "execution_count": null,
   "metadata": {
    "colab": {
     "base_uri": "https://localhost:8080/",
     "height": 204
    },
    "colab_type": "code",
    "id": "AI7Gyc7H-GFg",
    "outputId": "3539c590-f1e1-4ef1-d3e1-271ef5d7325f"
   },
   "outputs": [],
   "source": [
    "# Get a df counting crimes by Type within each Community Area\n",
    "hood_crime_type = crime_df.groupby(['Community Area','Offense Type'], as_index=False)[['Date']].count()\n",
    "\n",
    "# Rename groupby/mini-df columns\n",
    "hood_crime_type.rename(columns = {'Community Area':'community_area', 'Date':'crime_count', 'Offense Type': 'offense_type'}, inplace = True)\n",
    "\n",
    "# Preview\n",
    "hood_crime_type.head()"
   ]
  },
  {
   "cell_type": "code",
   "execution_count": null,
   "metadata": {
    "colab": {
     "base_uri": "https://localhost:8080/",
     "height": 119
    },
    "colab_type": "code",
    "id": "vca08ydy_H40",
    "outputId": "c4c02197-2d0c-4c30-c690-305ea0c2edd9"
   },
   "outputs": [],
   "source": [
    "# How many neighborhoods each crime type is seen\n",
    "hood_crime_type['offense_type'].value_counts().head()"
   ]
  },
  {
   "cell_type": "code",
   "execution_count": null,
   "metadata": {
    "colab": {
     "base_uri": "https://localhost:8080/",
     "height": 419
    },
    "colab_type": "code",
    "id": "ygryU8RESfMS",
    "outputId": "68c93835-501a-4479-a7b2-14c22c486f08"
   },
   "outputs": [],
   "source": [
    "# Get a df counting total crimes within each Community Area\n",
    "hood_crimes = hood_crime_type.groupby(['community_area'], as_index=False)[['crime_count']].sum()\n",
    "\n",
    "# Sort by crime_count\n",
    "hood_crimes = hood_crimes.sort_values(by=['crime_count'])\n",
    "\n",
    "# Preview\n",
    "hood_crimes"
   ]
  },
  {
   "cell_type": "code",
   "execution_count": null,
   "metadata": {
    "colab": {
     "base_uri": "https://localhost:8080/",
     "height": 85
    },
    "colab_type": "code",
    "id": "srI_k1dS-Z59",
    "outputId": "c9330ca4-23cf-4fa0-835d-ce678e6b112f"
   },
   "outputs": [],
   "source": [
    "# Explore / Check Stats\n",
    "# There are 2 crimes with NULL values for community area\n",
    "print('SHAPE:', hood_crimes.shape)\n",
    "print('TOTAL # OF CRIMES:', hood_crimes['crime_count'].sum())\n",
    "print('MISSING VALUES FOR COMM_AREA:', crime_df['Community Area'].isna().sum())\n",
    "print('HIGHEST # OF CRIMES IN ONE COMM_AREA:', hood_crimes['crime_count'].max())"
   ]
  },
  {
   "cell_type": "markdown",
   "metadata": {
    "colab_type": "text",
    "id": "PoR88yD3GxZC"
   },
   "source": [
    "\n",
    "#### Merge with Boundaries Info (for maps)\n",
    "\n",
    "Following steps adapted from: https://www.districtdatalabs.com/altair-choropleth-viz\n",
    "\n",
    "- ***comm_bounds gdf***\n",
    "- ***crimes_gdf***"
   ]
  },
  {
   "cell_type": "code",
   "execution_count": null,
   "metadata": {
    "colab": {
     "base_uri": "https://localhost:8080/",
     "height": 496
    },
    "colab_type": "code",
    "id": "qWYYlFGOPi4r",
    "outputId": "9ffc6d6d-ab69-460a-ec90-5329bab3e1f5"
   },
   "outputs": [],
   "source": [
    "# Load GeoJson of Community Area boundaries\n",
    "comm_bounds = gpd.read_file(path_to_data(COMM_AREAS) + '.geojson')\n",
    "\n",
    "print('DATAFRAME TYPE:', type(comm_bounds))\n",
    "comm_bounds.head()"
   ]
  },
  {
   "cell_type": "code",
   "execution_count": null,
   "metadata": {
    "colab": {
     "base_uri": "https://localhost:8080/",
     "height": 513
    },
    "colab_type": "code",
    "id": "xV6idG_-qNBe",
    "outputId": "8557acec-1c33-4852-e9be-92dd5e30bcb9"
   },
   "outputs": [],
   "source": [
    "# Merge crimes data with area boundaries data\n",
    "crimes_gdf = comm_bounds.merge(hood_crimes, left_on='area_num_1', right_on='community_area', how='inner')\n",
    "\n",
    "print('DATAFRAME TYPE:', type(crimes_gdf))\n",
    "print('DATFRAME SHAPE:', crimes_gdf.shape)\n",
    "crimes_gdf.head()"
   ]
  },
  {
   "cell_type": "code",
   "execution_count": null,
   "metadata": {
    "colab": {
     "base_uri": "https://localhost:8080/",
     "height": 479
    },
    "colab_type": "code",
    "id": "vvVp-C_KrMpl",
    "outputId": "920c0e58-b992-4193-a3e6-a35c331dc8f8"
   },
   "outputs": [],
   "source": [
    "# Determine center of each polygon and add as columns\n",
    "crimes_gdf['centroid_lon'] = crimes_gdf['geometry'].centroid.x\n",
    "crimes_gdf['centroid_lat'] = crimes_gdf['geometry'].centroid.y\n",
    "crimes_gdf.head()"
   ]
  },
  {
   "cell_type": "markdown",
   "metadata": {
    "colab_type": "text",
    "id": "jWmY0cf-99NQ"
   },
   "source": [
    "### CHARTS: Chloropleths"
   ]
  },
  {
   "cell_type": "markdown",
   "metadata": {
    "colab_type": "text",
    "id": "Rc-7xS_dv8Qt"
   },
   "source": [
    "#### Prep Data to be Used for Altair\n",
    "\n",
    "Following steps adapted from: https://www.districtdatalabs.com/altair-choropleth-viz\n",
    "- ***gen_geojson function***\n",
    "- ***gen_map function***"
   ]
  },
  {
   "cell_type": "code",
   "execution_count": null,
   "metadata": {
    "colab": {},
    "colab_type": "code",
    "id": "PCAcKuvJnadU"
   },
   "outputs": [],
   "source": [
    "# Convert GeoPandas df back to GeoJson\n",
    "def gen_geojson(geodataframe):\n",
    "  ''' Converts GeoPandas dataframe back to GeoJson file that Altair can use for maps'''\n",
    "  #choro_json = json.loads(crimes_gdf.to_json())\n",
    "  #choro_data = alt.Data(values=choro_json['features'])\n",
    "  data  = alt.InlineData(values = geodataframe.to_json(),\n",
    "                                format = alt.DataFormat(property='features',\n",
    "                                                        type='json'))\n",
    "  return data"
   ]
  },
  {
   "cell_type": "code",
   "execution_count": null,
   "metadata": {
    "colab": {},
    "colab_type": "code",
    "id": "Z-H0-odimiYV"
   },
   "outputs": [],
   "source": [
    "# Generate map\n",
    "def gen_map(geodata, color_column, title):\n",
    "    '''Generates map with crime choropleth and community area labels'''\n",
    "    # Add Base Layer\n",
    "    base = alt.Chart(geodata, title = title).mark_geoshape(\n",
    "        stroke='black',\n",
    "        strokeWidth=1\n",
    "    ).encode(\n",
    "    ).properties(\n",
    "        width=400,\n",
    "        height=400\n",
    "    )\n",
    "    # Add Choropleth Layer\n",
    "    choro = alt.Chart(geodata).mark_geoshape(\n",
    "        stroke='black'\n",
    "    ).encode(\n",
    "        color=alt.Color(color_column, \n",
    "                  type='quantitative', \n",
    "                  #scale=alt.Scale(scheme='bluegreen'),\n",
    "                  title = \"Crime Count\")\n",
    "    )\n",
    "    # Add Labels Layer\n",
    "    labels = alt.Chart(geodata).mark_text(baseline='top'\n",
    "     ).properties(\n",
    "        width=400,\n",
    "        height=400\n",
    "     ).encode(\n",
    "         longitude='properties.centroid_lon:Q',\n",
    "         latitude='properties.centroid_lat:Q',\n",
    "         text='properties.community_area:O',\n",
    "         size=alt.value(8),\n",
    "         opacity=alt.value(1)\n",
    "     )\n",
    "\n",
    "    return base + choro + labels"
   ]
  },
  {
   "cell_type": "markdown",
   "metadata": {
    "colab_type": "text",
    "id": "lKzvyuHOdIyf"
   },
   "source": [
    "#### Maps"
   ]
  },
  {
   "cell_type": "code",
   "execution_count": null,
   "metadata": {
    "colab": {
     "base_uri": "https://localhost:8080/",
     "height": 455
    },
    "colab_type": "code",
    "id": "Ix5f29OVtGkQ",
    "outputId": "c5faec0d-7054-444b-89d9-e341d01ec216"
   },
   "outputs": [],
   "source": [
    "choro_data = gen_geojson(crimes_gdf)\n",
    "crime_2018_map = gen_map(geodata=choro_data, color_column='properties.crime_count', title='2018')\n",
    "crime_2018_map"
   ]
  },
  {
   "cell_type": "markdown",
   "metadata": {
    "colab_type": "text",
    "id": "SJRJwc8AqQ4L"
   },
   "source": [
    "### CHARTS: Offense Types"
   ]
  },
  {
   "cell_type": "code",
   "execution_count": null,
   "metadata": {
    "colab": {
     "base_uri": "https://localhost:8080/",
     "height": 411
    },
    "colab_type": "code",
    "id": "e9-DtQ0Fr3Ib",
    "outputId": "90abc9e8-ba8f-466e-fde7-0c843305958d"
   },
   "outputs": [],
   "source": [
    "crime_df.head()"
   ]
  },
  {
   "cell_type": "code",
   "execution_count": null,
   "metadata": {
    "colab": {},
    "colab_type": "code",
    "id": "jb9Tk6m8qcPt"
   },
   "outputs": [],
   "source": [
    "# HEATMAP + POINTS\n",
    "'''\n",
    "type_month = alt.Chart(crime_df).mark_rect().encode(\n",
    "    x='Month:T',\n",
    "    y='count():Q',\n",
    "    #color='count()'\n",
    ").transform_filter(\n",
    "    (datum.Is_High_School == True) & (datum.Rate_Grad_5yr_2019 != 0)\n",
    ").properties(\n",
    "    width=500,\n",
    "    height=200,\n",
    "    title={\n",
    "      \"text\": [\"Chicago Public Schools 5-yr Graduation Rates\", \"by Majority Race\"], \n",
    "      \"subtitle\": [\"Majority Black schools are falling behind in graduation rates.\",\n",
    "                   \"[Source: City of Chicago Data Portal, CPS.edu School Data]\"],\n",
    "      \"color\": teal,\n",
    "      \"subtitleColor\": purple\n",
    "    }\n",
    ").configure_title(\n",
    "    subtitleFontSize=12,\n",
    ")\n",
    "type_month\n",
    "'''\n",
    "\n",
    "heatmap = alt.Chart(crime_df).mark_rect().encode(\n",
    "    alt.X('Ward:N'),\n",
    "    alt.Y('Month:T'),\n",
    "    alt.Color('count()', scale=alt.Scale(scheme='greenblue'))\n",
    ")\n",
    "\n",
    "points = alt.Chart(crime_df).mark_circle(\n",
    "    color='black',\n",
    "    size=5,\n",
    ").encode(\n",
    "    x='Ward:N',\n",
    "    y='Month:T',\n",
    ")\n",
    "\n",
    "alt.data_transformers.disable_max_rows()\n",
    "heatmap + points"
   ]
  },
  {
   "cell_type": "code",
   "execution_count": null,
   "metadata": {
    "colab": {
     "base_uri": "https://localhost:8080/",
     "height": 35,
     "resources": {
      "http://localhost:8080/altair-data-d185151e73481aad9a794780dd34d151.csv": {
       "data": "CjwhRE9DVFlQRSBodG1sPgo8aHRtbCBsYW5nPWVuPgogIDxtZXRhIGNoYXJzZXQ9dXRmLTg+CiAgPG1ldGEgbmFtZT12aWV3cG9ydCBjb250ZW50PSJpbml0aWFsLXNjYWxlPTEsIG1pbmltdW0tc2NhbGU9MSwgd2lkdGg9ZGV2aWNlLXdpZHRoIj4KICA8dGl0bGU+RXJyb3IgNDA0IChOb3QgRm91bmQpISExPC90aXRsZT4KICA8c3R5bGU+CiAgICAqe21hcmdpbjowO3BhZGRpbmc6MH1odG1sLGNvZGV7Zm9udDoxNXB4LzIycHggYXJpYWwsc2Fucy1zZXJpZn1odG1se2JhY2tncm91bmQ6I2ZmZjtjb2xvcjojMjIyO3BhZGRpbmc6MTVweH1ib2R5e21hcmdpbjo3JSBhdXRvIDA7bWF4LXdpZHRoOjM5MHB4O21pbi1oZWlnaHQ6MTgwcHg7cGFkZGluZzozMHB4IDAgMTVweH0qID4gYm9keXtiYWNrZ3JvdW5kOnVybCgvL3d3dy5nb29nbGUuY29tL2ltYWdlcy9lcnJvcnMvcm9ib3QucG5nKSAxMDAlIDVweCBuby1yZXBlYXQ7cGFkZGluZy1yaWdodDoyMDVweH1we21hcmdpbjoxMXB4IDAgMjJweDtvdmVyZmxvdzpoaWRkZW59aW5ze2NvbG9yOiM3Nzc7dGV4dC1kZWNvcmF0aW9uOm5vbmV9YSBpbWd7Ym9yZGVyOjB9QG1lZGlhIHNjcmVlbiBhbmQgKG1heC13aWR0aDo3NzJweCl7Ym9keXtiYWNrZ3JvdW5kOm5vbmU7bWFyZ2luLXRvcDowO21heC13aWR0aDpub25lO3BhZGRpbmctcmlnaHQ6MH19I2xvZ297YmFja2dyb3VuZDp1cmwoLy93d3cuZ29vZ2xlLmNvbS9pbWFnZXMvbG9nb3MvZXJyb3JwYWdlL2Vycm9yX2xvZ28tMTUweDU0LnBuZykgbm8tcmVwZWF0O21hcmdpbi1sZWZ0Oi01cHh9QG1lZGlhIG9ubHkgc2NyZWVuIGFuZCAobWluLXJlc29sdXRpb246MTkyZHBpKXsjbG9nb3tiYWNrZ3JvdW5kOnVybCgvL3d3dy5nb29nbGUuY29tL2ltYWdlcy9sb2dvcy9lcnJvcnBhZ2UvZXJyb3JfbG9nby0xNTB4NTQtMngucG5nKSBuby1yZXBlYXQgMCUgMCUvMTAwJSAxMDAlOy1tb3otYm9yZGVyLWltYWdlOnVybCgvL3d3dy5nb29nbGUuY29tL2ltYWdlcy9sb2dvcy9lcnJvcnBhZ2UvZXJyb3JfbG9nby0xNTB4NTQtMngucG5nKSAwfX1AbWVkaWEgb25seSBzY3JlZW4gYW5kICgtd2Via2l0LW1pbi1kZXZpY2UtcGl4ZWwtcmF0aW86Mil7I2xvZ297YmFja2dyb3VuZDp1cmwoLy93d3cuZ29vZ2xlLmNvbS9pbWFnZXMvbG9nb3MvZXJyb3JwYWdlL2Vycm9yX2xvZ28tMTUweDU0LTJ4LnBuZykgbm8tcmVwZWF0Oy13ZWJraXQtYmFja2dyb3VuZC1zaXplOjEwMCUgMTAwJX19I2xvZ297ZGlzcGxheTppbmxpbmUtYmxvY2s7aGVpZ2h0OjU0cHg7d2lkdGg6MTUwcHh9CiAgPC9zdHlsZT4KICA8YSBocmVmPS8vd3d3Lmdvb2dsZS5jb20vPjxzcGFuIGlkPWxvZ28gYXJpYS1sYWJlbD1Hb29nbGU+PC9zcGFuPjwvYT4KICA8cD48Yj40MDQuPC9iPiA8aW5zPlRoYXTigJlzIGFuIGVycm9yLjwvaW5zPgogIDxwPiAgPGlucz5UaGF04oCZcyBhbGwgd2Uga25vdy48L2lucz4K",
       "headers": [
        [
         "content-length",
         "1449"
        ],
        [
         "content-type",
         "text/html; charset=utf-8"
        ]
       ],
       "ok": false,
       "status": 404,
       "status_text": ""
      }
     }
    },
    "colab_type": "code",
    "id": "YRjFobu0qO9y",
    "outputId": "7ce74567-ab89-4ef0-d2da-233a881b0073"
   },
   "outputs": [],
   "source": [
    "#alt.data_transformers.enable('default', max_rows=None)\n",
    "#alt.data_transformers.enable('csv')\n",
    "alt.data_transformers.disable_max_rows()\n",
    "\n",
    "# SMALL MULTIPLES\n",
    "types = alt.Chart(crime_df).transform_filter(\n",
    "    alt.datum.Month == 1\n",
    ").mark_area().encode(\n",
    "    x='date:T',\n",
    "    y='count():Q',\n",
    "    color='Offense Type:N',\n",
    "    row=alt.Row('Offense Type:N', sort=['BATTERY', 'ASSAULT', 'ROBBERY', 'HOMICIDE'])\n",
    ").properties(height=50, width=400)\n",
    "\n",
    "#with alt.data_transformers.disable_max_rows():\n",
    "#   types.display()\n",
    "types"
   ]
  },
  {
   "cell_type": "code",
   "execution_count": null,
   "metadata": {
    "colab": {
     "base_uri": "https://localhost:8080/",
     "height": 204
    },
    "colab_type": "code",
    "id": "H85GZ_88sQnu",
    "outputId": "f7c8b9ff-629d-4ce5-81cd-2cce6f8ec329"
   },
   "outputs": [],
   "source": [
    "hood_crimes.head()"
   ]
  },
  {
   "cell_type": "code",
   "execution_count": null,
   "metadata": {
    "colab": {
     "base_uri": "https://localhost:8080/",
     "height": 34
    },
    "colab_type": "code",
    "id": "1VYaObuI97Cp",
    "outputId": "75bca970-eff2-49a7-af45-30d58f407f21"
   },
   "outputs": [],
   "source": [
    "crime_df.shape"
   ]
  },
  {
   "cell_type": "code",
   "execution_count": null,
   "metadata": {
    "colab": {
     "base_uri": "https://localhost:8080/",
     "height": 214
    },
    "colab_type": "code",
    "id": "8GKnI4inJ9yo",
    "outputId": "eac2e100-2fb6-4d21-f430-32e2f0188704"
   },
   "outputs": [],
   "source": [
    "alt.Chart(hood_crimes).mark_point().encode(\n",
    "    x='community_area:N',\n",
    "    y='crime_count:Q',\n",
    ")"
   ]
  },
  {
   "cell_type": "code",
   "execution_count": null,
   "metadata": {
    "colab": {},
    "colab_type": "code",
    "id": "48StR5UMNLuA"
   },
   "outputs": [],
   "source": []
  }
 ],
 "metadata": {
  "accelerator": "GPU",
  "colab": {
   "collapsed_sections": [
    "qdohKGfOc2Y8",
    "ENSXu2kudGYp",
    "OJdUgxJwfaZ0",
    "P4rEf2RGkc4t",
    "zzNmyffkgGgh",
    "pN7hIFU3F67G",
    "dG1KW39IGAwO",
    "oGhXC5e9kHdR",
    "3-tFgaSK2C4r",
    "soml2AAdz8YS",
    "eucyJ0f762HT",
    "NcQwPypb9OfW",
    "366YHJhJGs6K",
    "PoR88yD3GxZC",
    "Rc-7xS_dv8Qt"
   ],
   "name": "Assignment 4.ipynb",
   "provenance": []
  },
  "kernelspec": {
   "display_name": "Python 3",
   "language": "python",
   "name": "python3"
  },
  "language_info": {
   "codemirror_mode": {
    "name": "ipython",
    "version": 3
   },
   "file_extension": ".py",
   "mimetype": "text/x-python",
   "name": "python",
   "nbconvert_exporter": "python",
   "pygments_lexer": "ipython3",
   "version": "3.7.3"
  }
 },
 "nbformat": 4,
 "nbformat_minor": 1
}
